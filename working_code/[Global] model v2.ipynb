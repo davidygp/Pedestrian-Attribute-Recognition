{
 "cells": [
  {
   "cell_type": "code",
   "execution_count": 1,
   "metadata": {},
   "outputs": [],
   "source": [
    "import sys"
   ]
  },
  {
   "cell_type": "code",
   "execution_count": 2,
   "metadata": {},
   "outputs": [
    {
     "data": {
      "text/plain": [
       "['/usr/lib/python36.zip',\n",
       " '/usr/lib/python3.6',\n",
       " '/usr/lib/python3.6/lib-dynload',\n",
       " '',\n",
       " '/usr/local/lib/python3.6/dist-packages',\n",
       " '/usr/lib/python3/dist-packages',\n",
       " '/usr/local/lib/python3.6/dist-packages/IPython/extensions',\n",
       " '/home/svu/e0384936/.ipython']"
      ]
     },
     "execution_count": 2,
     "metadata": {},
     "output_type": "execute_result"
    }
   ],
   "source": [
    "sys.path"
   ]
  },
  {
   "cell_type": "code",
   "execution_count": 3,
   "metadata": {},
   "outputs": [],
   "source": [
    "sys.path.append(\"/home/svu/e0384936/Anaconda3/Lib/site-packages\")"
   ]
  },
  {
   "cell_type": "code",
   "execution_count": 4,
   "metadata": {},
   "outputs": [
    {
     "data": {
      "text/plain": [
       "['/usr/lib/python36.zip',\n",
       " '/usr/lib/python3.6',\n",
       " '/usr/lib/python3.6/lib-dynload',\n",
       " '',\n",
       " '/usr/local/lib/python3.6/dist-packages',\n",
       " '/usr/lib/python3/dist-packages',\n",
       " '/usr/local/lib/python3.6/dist-packages/IPython/extensions',\n",
       " '/home/svu/e0384936/.ipython',\n",
       " '/home/svu/e0384936/Anaconda3/Lib/site-packages']"
      ]
     },
     "execution_count": 4,
     "metadata": {},
     "output_type": "execute_result"
    }
   ],
   "source": [
    "sys.path"
   ]
  },
  {
   "cell_type": "code",
   "execution_count": 5,
   "metadata": {},
   "outputs": [
    {
     "name": "stdout",
     "output_type": "stream",
     "text": [
      "[Errno 2] No such file or directory: 'Strong_Baseline_of_Pedestrian_Attribute_Recognition'\n",
      "/home/svu/e0384936/Pedestrian-Attribute-Recognition\n"
     ]
    }
   ],
   "source": [
    "%cd Strong_Baseline_of_Pedestrian_Attribute_Recognition"
   ]
  },
  {
   "cell_type": "code",
   "execution_count": 6,
   "metadata": {},
   "outputs": [],
   "source": [
    "import os\n",
    "import pprint\n",
    "from collections import OrderedDict, defaultdict\n",
    "\n",
    "import numpy as np\n",
    "import torch\n",
    "from torch.optim.lr_scheduler import ReduceLROnPlateau\n",
    "from torch.utils.data import DataLoader\n",
    "\n",
    "from batch_engine import valid_trainer, batch_trainer\n",
    "from config import argument_parser\n",
    "from dataset.AttrDataset import AttrDataset, get_transform\n",
    "from loss.CE_loss import CEL_Sigmoid\n",
    "from models.base_block import FeatClassifier, BaseClassifier\n",
    "from models.resnet import resnet50\n",
    "from tools.function import get_model_log_path, get_pedestrian_metrics\n",
    "from tools.utils import time_str, save_ckpt, ReDirectSTD, set_seed\n",
    "\n",
    "set_seed(605)"
   ]
  },
  {
   "cell_type": "code",
   "execution_count": 7,
   "metadata": {},
   "outputs": [],
   "source": [
    "def main(args):\n",
    "    visenv_name = args.dataset\n",
    "    exp_dir = os.path.join('exp_result', args.dataset)\n",
    "    model_dir, log_dir = get_model_log_path(exp_dir, visenv_name)\n",
    "    stdout_file = os.path.join(log_dir, f'stdout_{time_str()}.txt')\n",
    "    save_model_path = os.path.join(model_dir, 'ckpt_max.pth')\n",
    "\n",
    "    if args.redirector:\n",
    "        print('redirector stdout')\n",
    "        ReDirectSTD(stdout_file, 'stdout', False)\n",
    "\n",
    "    pprint.pprint(OrderedDict(args.__dict__))\n",
    "\n",
    "    print('-' * 60)\n",
    "    print(f'use GPU{args.device} for training')\n",
    "    print(f'train set: {args.dataset} {args.train_split}, test set: {args.valid_split}')\n",
    "\n",
    "    train_tsfm, valid_tsfm = get_transform(args)\n",
    "    print(train_tsfm)\n",
    "\n",
    "    train_set = AttrDataset(args=args, split=args.train_split, transform=train_tsfm)\n",
    "\n",
    "    train_loader = DataLoader(\n",
    "        dataset=train_set,\n",
    "        batch_size=args.batchsize,\n",
    "        shuffle=True,\n",
    "        num_workers=4,\n",
    "        pin_memory=True,\n",
    "    )\n",
    "    valid_set = AttrDataset(args=args, split=args.valid_split, transform=valid_tsfm)\n",
    "\n",
    "    valid_loader = DataLoader(\n",
    "        dataset=valid_set,\n",
    "        batch_size=args.batchsize,\n",
    "        shuffle=False,\n",
    "        num_workers=4,\n",
    "        pin_memory=True,\n",
    "    )\n",
    "\n",
    "    print(f'{args.train_split} set: {len(train_loader.dataset)}, '\n",
    "          f'{args.valid_split} set: {len(valid_loader.dataset)}, '\n",
    "          f'attr_num : {train_set.attr_num}')\n",
    "\n",
    "    labels = train_set.label\n",
    "    sample_weight = labels.mean(0)\n",
    "\n",
    "    backbone = resnet50()\n",
    "    classifier = BaseClassifier(nattr=train_set.attr_num)\n",
    "    model = FeatClassifier(backbone, classifier)\n",
    "\n",
    "    if torch.cuda.is_available():\n",
    "        model = torch.nn.DataParallel(model).cuda()\n",
    "\n",
    "    criterion = CEL_Sigmoid(sample_weight)\n",
    "\n",
    "    param_groups = [{'params': model.module.finetune_params(), 'lr': args.lr_ft},\n",
    "                    {'params': model.module.fresh_params(), 'lr': args.lr_new}]\n",
    "    optimizer = torch.optim.SGD(param_groups, momentum=args.momentum, weight_decay=args.weight_decay, nesterov=False)\n",
    "    lr_scheduler = ReduceLROnPlateau(optimizer, factor=0.1, patience=4)\n",
    "\n",
    "    '''\n",
    "    best_metric, epoch = trainer(epoch=args.train_epoch,\n",
    "                                 model=model,\n",
    "                                 train_loader=train_loader,\n",
    "                                 valid_loader=valid_loader,\n",
    "                                 criterion=criterion,\n",
    "                                 optimizer=optimizer,\n",
    "                                 lr_scheduler=lr_scheduler,\n",
    "                                 path=save_model_path,\n",
    "                                 measure='accuracy')\n",
    "\n",
    "    print(f'{visenv_name},  best accuracy : {best_metric} in epoch{epoch}')\n",
    "    '''\n",
    "    \n",
    "    best_metric2, epoch2 = trainer(epoch=args.train_epoch,\n",
    "                                 model=model,\n",
    "                                 train_loader=train_loader,\n",
    "                                 valid_loader=valid_loader,\n",
    "                                 criterion=criterion,\n",
    "                                 optimizer=optimizer,\n",
    "                                 lr_scheduler=lr_scheduler,\n",
    "                                 path=save_model_path,\n",
    "                                 measure='f1')\n",
    "    print(f'{visenv_name},  best F1 score : {best_metric2} in epoch{epoch2}')\n",
    "\n",
    "\n",
    "def trainer(epoch, model, train_loader, valid_loader, criterion, optimizer, lr_scheduler,\n",
    "            path, measure):\n",
    "    maximum = float(-np.inf)\n",
    "    best_epoch = 0\n",
    "\n",
    "    result_list = defaultdict()\n",
    "\n",
    "    for i in range(epoch):\n",
    "\n",
    "        train_loss, train_gt, train_probs = batch_trainer(\n",
    "            epoch=i,\n",
    "            model=model,\n",
    "            train_loader=train_loader,\n",
    "            criterion=criterion,\n",
    "            optimizer=optimizer,\n",
    "        )\n",
    "\n",
    "        valid_loss, valid_gt, valid_probs = valid_trainer(\n",
    "            model=model,\n",
    "            valid_loader=valid_loader,\n",
    "            criterion=criterion,\n",
    "        )\n",
    "\n",
    "        lr_scheduler.step(metrics=valid_loss, epoch=i)\n",
    "\n",
    "        train_result = get_pedestrian_metrics(train_gt, train_probs)\n",
    "        valid_result = get_pedestrian_metrics(valid_gt, valid_probs)\n",
    "\n",
    "        print(f'Evaluation on test set, \\n',\n",
    "              'ma: {:.4f},  pos_recall: {:.4f} , neg_recall: {:.4f} \\n'.format(\n",
    "                  valid_result.ma, np.mean(valid_result.label_pos_recall), np.mean(valid_result.label_neg_recall)),\n",
    "              'Acc: {:.4f}, Prec: {:.4f}, Rec: {:.4f}, F1: {:.4f}'.format(\n",
    "                  valid_result.instance_acc, valid_result.instance_prec, valid_result.instance_recall,\n",
    "                  valid_result.instance_f1))\n",
    "\n",
    "        print(f'{time_str()}')\n",
    "        print('-' * 60)\n",
    "\n",
    "        if measure == 'accuracy':\n",
    "            cur_metric = valid_result.ma\n",
    "        elif measure == 'f1':\n",
    "            cur_metric = valid_result.instance_f1\n",
    "\n",
    "        if cur_metric > maximum:\n",
    "            maximum = cur_metric\n",
    "            best_epoch = i\n",
    "            save_ckpt(model, path, i, maximum)\n",
    "\n",
    "        result_list[i] = [train_result, valid_result]\n",
    "\n",
    "    torch.save(result_list, os.path.join(os.path.dirname(path), 'metric_log.pkl'))\n",
    "\n",
    "    return maximum, best_epoch"
   ]
  },
  {
   "cell_type": "code",
   "execution_count": 8,
   "metadata": {},
   "outputs": [],
   "source": [
    "class args_config():\n",
    "    def __init__(self):\n",
    "        self.dataset=\"PETA\"#\"RAP\"\n",
    "        self.debug='store_false'\n",
    "        self.batchsize=64\n",
    "        self.train_epoch=30\n",
    "        self.height=256\n",
    "        self.width=192\n",
    "        self.lr_ft=0.01\n",
    "        self.lr_new=0.1\n",
    "        self.classifier='base'\n",
    "        self.momentum=0.9\n",
    "        self.weight_decay=5e-4\n",
    "        self.train_split=\"trainval\" #choices=['train' 'trainval']\n",
    "        self.valid_split=\"test\" #choices=['test' 'valid']\n",
    "        self.device=0\n",
    "        self.redirector='store_false'\n",
    "        self.use_bn='store_false'"
   ]
  },
  {
   "cell_type": "code",
   "execution_count": 9,
   "metadata": {},
   "outputs": [],
   "source": [
    "args = args_config()"
   ]
  },
  {
   "cell_type": "code",
   "execution_count": 10,
   "metadata": {},
   "outputs": [],
   "source": [
    "#args.dataset = \"PETA\""
   ]
  },
  {
   "cell_type": "code",
   "execution_count": 11,
   "metadata": {},
   "outputs": [
    {
     "data": {
      "text/plain": [
       "{'dataset': 'PETA',\n",
       " 'debug': 'store_false',\n",
       " 'batchsize': 64,\n",
       " 'train_epoch': 30,\n",
       " 'height': 256,\n",
       " 'width': 192,\n",
       " 'lr_ft': 0.01,\n",
       " 'lr_new': 0.1,\n",
       " 'classifier': 'base',\n",
       " 'momentum': 0.9,\n",
       " 'weight_decay': 0.0005,\n",
       " 'train_split': 'trainval',\n",
       " 'valid_split': 'test',\n",
       " 'device': 0,\n",
       " 'redirector': 'store_false',\n",
       " 'use_bn': 'store_false'}"
      ]
     },
     "execution_count": 11,
     "metadata": {},
     "output_type": "execute_result"
    }
   ],
   "source": [
    "vars(args)"
   ]
  },
  {
   "cell_type": "code",
   "execution_count": 12,
   "metadata": {
    "scrolled": true
   },
   "outputs": [
    {
     "name": "stdout",
     "output_type": "stream",
     "text": [
      "redirector stdout\n",
      "OrderedDict([('dataset', 'PETA'),\n",
      "             ('debug', 'store_false'),\n",
      "             ('batchsize', 64),\n",
      "             ('train_epoch', 30),\n",
      "             ('height', 256),\n",
      "             ('width', 192),\n",
      "             ('lr_ft', 0.01),\n",
      "             ('lr_new', 0.1),\n",
      "             ('classifier', 'base'),\n",
      "             ('momentum', 0.9),\n",
      "             ('weight_decay', 0.0005),\n",
      "             ('train_split', 'trainval'),\n",
      "             ('valid_split', 'test'),\n",
      "             ('device', 0),\n",
      "             ('redirector', 'store_false'),\n",
      "             ('use_bn', 'store_false')])\n",
      "------------------------------------------------------------\n",
      "use GPU0 for training\n",
      "train set: PETA trainval, test set: test\n",
      "Compose(\n",
      "    Resize(size=(256, 192), interpolation=PIL.Image.BILINEAR)\n",
      "    Pad(padding=10, fill=0, padding_mode=constant)\n",
      "    RandomCrop(size=(256, 192), padding=None)\n",
      "    RandomHorizontalFlip(p=0.5)\n",
      "    ToTensor()\n",
      "    Normalize(mean=[0.485, 0.456, 0.406], std=[0.229, 0.224, 0.225])\n",
      ")\n",
      "trainval set: 11400, test set: 7600, attr_num : 116\n",
      "2020-06-21_12:56:19, Step 19/179 in Ep 0, 0.21s  train_loss:68.1539\n",
      "2020-06-21_12:56:23, Step 39/179 in Ep 0, 0.21s  train_loss:45.8228\n",
      "2020-06-21_12:56:27, Step 59/179 in Ep 0, 0.21s  train_loss:38.1139\n",
      "2020-06-21_12:56:31, Step 79/179 in Ep 0, 0.21s  train_loss:37.3568\n",
      "2020-06-21_12:56:35, Step 99/179 in Ep 0, 0.21s  train_loss:33.6073\n",
      "2020-06-21_12:56:39, Step 119/179 in Ep 0, 0.21s  train_loss:33.2490\n",
      "2020-06-21_12:56:44, Step 139/179 in Ep 0, 0.21s  train_loss:30.3344\n",
      "2020-06-21_12:56:48, Step 159/179 in Ep 0, 0.21s  train_loss:29.7910\n"
     ]
    },
    {
     "name": "stderr",
     "output_type": "stream",
     "text": [
      "\r",
      "  0%|          | 0/119 [00:00<?, ?it/s]"
     ]
    },
    {
     "name": "stdout",
     "output_type": "stream",
     "text": [
      "2020-06-21_12:56:51, Step 178/179 in Ep 0, 0.05s  train_loss:30.7670\n",
      "Epoch 0, LR 0.1, Train_Time 37.80s, Loss: 42.8312\n"
     ]
    },
    {
     "name": "stderr",
     "output_type": "stream",
     "text": [
      "100%|██████████| 119/119 [00:32<00:00,  3.65it/s]\n"
     ]
    },
    {
     "name": "stdout",
     "output_type": "stream",
     "text": [
      "Evaluation on test set, \n",
      " ma: 0.6743,  pos_recall: 0.4065 , neg_recall: 0.9421 \n",
      " Acc: 0.5925, Prec: 0.7451, Rec: 0.7206, F1: 0.7290\n",
      "2020-06-21_12:57:24\n",
      "------------------------------------------------------------\n",
      "2020-06-21_12:57:30, Step 19/179 in Ep 1, 0.21s  train_loss:27.0500\n",
      "2020-06-21_12:57:35, Step 39/179 in Ep 1, 0.21s  train_loss:25.3155\n",
      "2020-06-21_12:57:39, Step 59/179 in Ep 1, 0.21s  train_loss:27.8440\n",
      "2020-06-21_12:57:43, Step 79/179 in Ep 1, 0.21s  train_loss:27.2881\n",
      "2020-06-21_12:57:47, Step 99/179 in Ep 1, 0.21s  train_loss:25.0905\n",
      "2020-06-21_12:57:51, Step 119/179 in Ep 1, 0.21s  train_loss:26.0843\n",
      "2020-06-21_12:57:55, Step 139/179 in Ep 1, 0.21s  train_loss:27.2845\n",
      "2020-06-21_12:57:59, Step 159/179 in Ep 1, 0.21s  train_loss:30.0825\n"
     ]
    },
    {
     "name": "stderr",
     "output_type": "stream",
     "text": [
      "\r",
      "  0%|          | 0/119 [00:00<?, ?it/s]"
     ]
    },
    {
     "name": "stdout",
     "output_type": "stream",
     "text": [
      "2020-06-21_12:58:03, Step 178/179 in Ep 1, 0.05s  train_loss:33.9531\n",
      "Epoch 1, LR 0.1, Train_Time 37.37s, Loss: 26.5300\n"
     ]
    },
    {
     "name": "stderr",
     "output_type": "stream",
     "text": [
      "100%|██████████| 119/119 [00:33<00:00,  3.59it/s]\n"
     ]
    },
    {
     "name": "stdout",
     "output_type": "stream",
     "text": [
      "Evaluation on test set, \n",
      " ma: 0.7191,  pos_recall: 0.4859 , neg_recall: 0.9523 \n",
      " Acc: 0.6875, Prec: 0.8057, Rec: 0.7924, F1: 0.7969\n",
      "2020-06-21_12:58:36\n",
      "------------------------------------------------------------\n",
      "2020-06-21_12:58:43, Step 19/179 in Ep 2, 0.21s  train_loss:24.3332\n",
      "2020-06-21_12:58:47, Step 39/179 in Ep 2, 0.21s  train_loss:23.8340\n",
      "2020-06-21_12:58:51, Step 59/179 in Ep 2, 0.21s  train_loss:21.0579\n",
      "2020-06-21_12:58:55, Step 79/179 in Ep 2, 0.21s  train_loss:24.3871\n",
      "2020-06-21_12:58:59, Step 99/179 in Ep 2, 0.21s  train_loss:23.9819\n",
      "2020-06-21_12:59:03, Step 119/179 in Ep 2, 0.21s  train_loss:22.2367\n",
      "2020-06-21_12:59:07, Step 139/179 in Ep 2, 0.21s  train_loss:21.9245\n",
      "2020-06-21_12:59:12, Step 159/179 in Ep 2, 0.21s  train_loss:20.1587\n"
     ]
    },
    {
     "name": "stderr",
     "output_type": "stream",
     "text": [
      "\r",
      "  0%|          | 0/119 [00:00<?, ?it/s]"
     ]
    },
    {
     "name": "stdout",
     "output_type": "stream",
     "text": [
      "2020-06-21_12:59:15, Step 178/179 in Ep 2, 0.05s  train_loss:32.8065\n",
      "Epoch 2, LR 0.1, Train_Time 37.42s, Loss: 22.6094\n"
     ]
    },
    {
     "name": "stderr",
     "output_type": "stream",
     "text": [
      "100%|██████████| 119/119 [00:32<00:00,  3.61it/s]"
     ]
    },
    {
     "name": "stdout",
     "output_type": "stream",
     "text": [
      "Evaluation on test set, \n",
      " ma: 0.7364,  pos_recall: 0.5189 , neg_recall: 0.9539 \n",
      " Acc: 0.6835, Prec: 0.7994, Rec: 0.7900, F1: 0.7924\n",
      "2020-06-21_12:59:48\n",
      "------------------------------------------------------------\n"
     ]
    },
    {
     "name": "stderr",
     "output_type": "stream",
     "text": [
      "\n"
     ]
    },
    {
     "name": "stdout",
     "output_type": "stream",
     "text": [
      "2020-06-21_12:59:53, Step 19/179 in Ep 3, 0.21s  train_loss:23.3877\n",
      "2020-06-21_12:59:57, Step 39/179 in Ep 3, 0.21s  train_loss:22.5902\n",
      "2020-06-21_13:00:01, Step 59/179 in Ep 3, 0.21s  train_loss:23.0715\n",
      "2020-06-21_13:00:05, Step 79/179 in Ep 3, 0.21s  train_loss:20.0884\n",
      "2020-06-21_13:00:09, Step 99/179 in Ep 3, 0.21s  train_loss:21.2725\n",
      "2020-06-21_13:00:14, Step 119/179 in Ep 3, 0.21s  train_loss:22.4435\n",
      "2020-06-21_13:00:18, Step 139/179 in Ep 3, 0.21s  train_loss:18.7597\n",
      "2020-06-21_13:00:22, Step 159/179 in Ep 3, 0.21s  train_loss:24.7678\n"
     ]
    },
    {
     "name": "stderr",
     "output_type": "stream",
     "text": [
      "\r",
      "  0%|          | 0/119 [00:00<?, ?it/s]"
     ]
    },
    {
     "name": "stdout",
     "output_type": "stream",
     "text": [
      "2020-06-21_13:00:26, Step 178/179 in Ep 3, 0.05s  train_loss:35.5641\n",
      "Epoch 3, LR 0.1, Train_Time 37.36s, Loss: 20.1797\n"
     ]
    },
    {
     "name": "stderr",
     "output_type": "stream",
     "text": [
      "100%|██████████| 119/119 [00:32<00:00,  3.61it/s]\n"
     ]
    },
    {
     "name": "stdout",
     "output_type": "stream",
     "text": [
      "Evaluation on test set, \n",
      " ma: 0.7576,  pos_recall: 0.5530 , neg_recall: 0.9622 \n",
      " Acc: 0.7272, Prec: 0.8356, Rec: 0.8162, F1: 0.8237\n",
      "2020-06-21_13:00:59\n",
      "------------------------------------------------------------\n",
      "2020-06-21_13:01:05, Step 19/179 in Ep 4, 0.21s  train_loss:17.8619\n",
      "2020-06-21_13:01:09, Step 39/179 in Ep 4, 0.21s  train_loss:18.1606\n",
      "2020-06-21_13:01:13, Step 59/179 in Ep 4, 0.21s  train_loss:17.0020\n",
      "2020-06-21_13:01:17, Step 79/179 in Ep 4, 0.21s  train_loss:17.1734\n",
      "2020-06-21_13:01:22, Step 99/179 in Ep 4, 0.21s  train_loss:15.9003\n",
      "2020-06-21_13:01:26, Step 119/179 in Ep 4, 0.21s  train_loss:19.7558\n",
      "2020-06-21_13:01:30, Step 139/179 in Ep 4, 0.21s  train_loss:16.2299\n",
      "2020-06-21_13:01:34, Step 159/179 in Ep 4, 0.21s  train_loss:20.4332\n"
     ]
    },
    {
     "name": "stderr",
     "output_type": "stream",
     "text": [
      "\r",
      "  0%|          | 0/119 [00:00<?, ?it/s]"
     ]
    },
    {
     "name": "stdout",
     "output_type": "stream",
     "text": [
      "2020-06-21_13:01:38, Step 178/179 in Ep 4, 0.05s  train_loss:24.5571\n",
      "Epoch 4, LR 0.1, Train_Time 37.35s, Loss: 18.3057\n"
     ]
    },
    {
     "name": "stderr",
     "output_type": "stream",
     "text": [
      "100%|██████████| 119/119 [00:32<00:00,  3.62it/s]"
     ]
    },
    {
     "name": "stdout",
     "output_type": "stream",
     "text": [
      "Evaluation on test set, \n",
      " ma: 0.7593,  pos_recall: 0.5594 , neg_recall: 0.9592 \n",
      " Acc: 0.7118, Prec: 0.8178, Rec: 0.8093, F1: 0.8115\n",
      "2020-06-21_13:02:11\n",
      "------------------------------------------------------------\n"
     ]
    },
    {
     "name": "stderr",
     "output_type": "stream",
     "text": [
      "\n"
     ]
    },
    {
     "name": "stdout",
     "output_type": "stream",
     "text": [
      "2020-06-21_13:02:15, Step 19/179 in Ep 5, 0.21s  train_loss:15.8434\n",
      "2020-06-21_13:02:19, Step 39/179 in Ep 5, 0.21s  train_loss:19.6954\n",
      "2020-06-21_13:02:24, Step 59/179 in Ep 5, 0.21s  train_loss:16.5403\n",
      "2020-06-21_13:02:28, Step 79/179 in Ep 5, 0.21s  train_loss:17.0952\n",
      "2020-06-21_13:02:32, Step 99/179 in Ep 5, 0.21s  train_loss:16.4358\n",
      "2020-06-21_13:02:36, Step 119/179 in Ep 5, 0.21s  train_loss:18.7489\n",
      "2020-06-21_13:02:40, Step 139/179 in Ep 5, 0.21s  train_loss:15.3565\n",
      "2020-06-21_13:02:44, Step 159/179 in Ep 5, 0.21s  train_loss:19.7701\n"
     ]
    },
    {
     "name": "stderr",
     "output_type": "stream",
     "text": [
      "\r",
      "  0%|          | 0/119 [00:00<?, ?it/s]"
     ]
    },
    {
     "name": "stdout",
     "output_type": "stream",
     "text": [
      "2020-06-21_13:02:48, Step 178/179 in Ep 5, 0.05s  train_loss:26.2520\n",
      "Epoch 5, LR 0.1, Train_Time 37.37s, Loss: 16.7809\n"
     ]
    },
    {
     "name": "stderr",
     "output_type": "stream",
     "text": [
      "100%|██████████| 119/119 [00:32<00:00,  3.63it/s]"
     ]
    },
    {
     "name": "stdout",
     "output_type": "stream",
     "text": [
      "Evaluation on test set, \n",
      " ma: 0.7580,  pos_recall: 0.5575 , neg_recall: 0.9584 \n",
      " Acc: 0.7264, Prec: 0.8273, Rec: 0.8226, F1: 0.8231\n",
      "2020-06-21_13:03:21\n",
      "------------------------------------------------------------\n"
     ]
    },
    {
     "name": "stderr",
     "output_type": "stream",
     "text": [
      "\n"
     ]
    },
    {
     "name": "stdout",
     "output_type": "stream",
     "text": [
      "2020-06-21_13:03:26, Step 19/179 in Ep 6, 0.21s  train_loss:13.5104\n",
      "2020-06-21_13:03:30, Step 39/179 in Ep 6, 0.21s  train_loss:16.2788\n",
      "2020-06-21_13:03:34, Step 59/179 in Ep 6, 0.21s  train_loss:14.8927\n",
      "2020-06-21_13:03:38, Step 79/179 in Ep 6, 0.21s  train_loss:15.4152\n",
      "2020-06-21_13:03:42, Step 99/179 in Ep 6, 0.21s  train_loss:17.9951\n",
      "2020-06-21_13:03:46, Step 119/179 in Ep 6, 0.21s  train_loss:16.5489\n",
      "2020-06-21_13:03:50, Step 139/179 in Ep 6, 0.21s  train_loss:17.6192\n",
      "2020-06-21_13:03:55, Step 159/179 in Ep 6, 0.21s  train_loss:17.7165\n"
     ]
    },
    {
     "name": "stderr",
     "output_type": "stream",
     "text": [
      "\r",
      "  0%|          | 0/119 [00:00<?, ?it/s]"
     ]
    },
    {
     "name": "stdout",
     "output_type": "stream",
     "text": [
      "2020-06-21_13:03:58, Step 178/179 in Ep 6, 0.05s  train_loss:25.4800\n",
      "Epoch 6, LR 0.1, Train_Time 37.42s, Loss: 15.4787\n"
     ]
    },
    {
     "name": "stderr",
     "output_type": "stream",
     "text": [
      "100%|██████████| 119/119 [00:32<00:00,  3.62it/s]\n"
     ]
    },
    {
     "name": "stdout",
     "output_type": "stream",
     "text": [
      "Evaluation on test set, \n",
      " ma: 0.7756,  pos_recall: 0.5904 , neg_recall: 0.9609 \n",
      " Acc: 0.7329, Prec: 0.8324, Rec: 0.8255, F1: 0.8272\n",
      "2020-06-21_13:04:31\n",
      "------------------------------------------------------------\n",
      "2020-06-21_13:04:38, Step 19/179 in Ep 7, 0.21s  train_loss:12.5504\n",
      "2020-06-21_13:04:42, Step 39/179 in Ep 7, 0.21s  train_loss:12.6080\n",
      "2020-06-21_13:04:46, Step 59/179 in Ep 7, 0.21s  train_loss:14.1933\n",
      "2020-06-21_13:04:50, Step 79/179 in Ep 7, 0.21s  train_loss:14.6095\n",
      "2020-06-21_13:04:54, Step 99/179 in Ep 7, 0.21s  train_loss:14.9540\n",
      "2020-06-21_13:04:58, Step 119/179 in Ep 7, 0.21s  train_loss:15.2219\n",
      "2020-06-21_13:05:02, Step 139/179 in Ep 7, 0.21s  train_loss:13.2414\n",
      "2020-06-21_13:05:07, Step 159/179 in Ep 7, 0.21s  train_loss:13.6284\n"
     ]
    },
    {
     "name": "stderr",
     "output_type": "stream",
     "text": [
      "\r",
      "  0%|          | 0/119 [00:00<?, ?it/s]"
     ]
    },
    {
     "name": "stdout",
     "output_type": "stream",
     "text": [
      "2020-06-21_13:05:10, Step 178/179 in Ep 7, 0.05s  train_loss:23.2371\n",
      "Epoch 7, LR 0.1, Train_Time 37.39s, Loss: 14.3026\n"
     ]
    },
    {
     "name": "stderr",
     "output_type": "stream",
     "text": [
      "100%|██████████| 119/119 [00:32<00:00,  3.61it/s]\n"
     ]
    },
    {
     "name": "stdout",
     "output_type": "stream",
     "text": [
      "Evaluation on test set, \n",
      " ma: 0.7698,  pos_recall: 0.5821 , neg_recall: 0.9575 \n",
      " Acc: 0.7396, Prec: 0.8295, Rec: 0.8368, F1: 0.8314\n",
      "2020-06-21_13:05:43\n",
      "------------------------------------------------------------\n",
      "2020-06-21_13:05:50, Step 19/179 in Ep 8, 0.21s  train_loss:12.0984\n",
      "2020-06-21_13:05:54, Step 39/179 in Ep 8, 0.21s  train_loss:10.6751\n",
      "2020-06-21_13:05:58, Step 59/179 in Ep 8, 0.21s  train_loss:14.6861\n",
      "2020-06-21_13:06:02, Step 79/179 in Ep 8, 0.21s  train_loss:10.3124\n",
      "2020-06-21_13:06:06, Step 99/179 in Ep 8, 0.21s  train_loss:12.5259\n",
      "2020-06-21_13:06:11, Step 119/179 in Ep 8, 0.21s  train_loss:13.0912\n",
      "2020-06-21_13:06:15, Step 139/179 in Ep 8, 0.21s  train_loss:16.5869\n",
      "2020-06-21_13:06:19, Step 159/179 in Ep 8, 0.21s  train_loss:14.0292\n"
     ]
    },
    {
     "name": "stderr",
     "output_type": "stream",
     "text": [
      "\r",
      "  0%|          | 0/119 [00:00<?, ?it/s]"
     ]
    },
    {
     "name": "stdout",
     "output_type": "stream",
     "text": [
      "2020-06-21_13:06:23, Step 178/179 in Ep 8, 0.05s  train_loss:28.9453\n",
      "Epoch 8, LR 0.1, Train_Time 37.39s, Loss: 13.2330\n"
     ]
    },
    {
     "name": "stderr",
     "output_type": "stream",
     "text": [
      "100%|██████████| 119/119 [00:33<00:00,  3.60it/s]\n"
     ]
    },
    {
     "name": "stdout",
     "output_type": "stream",
     "text": [
      "Evaluation on test set, \n",
      " ma: 0.7952,  pos_recall: 0.6249 , neg_recall: 0.9655 \n",
      " Acc: 0.7523, Prec: 0.8422, Rec: 0.8410, F1: 0.8398\n",
      "2020-06-21_13:06:56\n",
      "------------------------------------------------------------\n",
      "2020-06-21_13:07:02, Step 19/179 in Ep 9, 0.21s  train_loss:11.7221\n",
      "2020-06-21_13:07:06, Step 39/179 in Ep 9, 0.21s  train_loss:11.1350\n",
      "2020-06-21_13:07:10, Step 59/179 in Ep 9, 0.21s  train_loss:11.8140\n",
      "2020-06-21_13:07:14, Step 79/179 in Ep 9, 0.21s  train_loss:12.4970\n",
      "2020-06-21_13:07:19, Step 99/179 in Ep 9, 0.21s  train_loss:9.8679\n",
      "2020-06-21_13:07:23, Step 119/179 in Ep 9, 0.21s  train_loss:11.7693\n",
      "2020-06-21_13:07:27, Step 139/179 in Ep 9, 0.21s  train_loss:12.6235\n",
      "2020-06-21_13:07:31, Step 159/179 in Ep 9, 0.21s  train_loss:13.8055\n"
     ]
    },
    {
     "name": "stderr",
     "output_type": "stream",
     "text": [
      "\r",
      "  0%|          | 0/119 [00:00<?, ?it/s]"
     ]
    },
    {
     "name": "stdout",
     "output_type": "stream",
     "text": [
      "2020-06-21_13:07:35, Step 178/179 in Ep 9, 0.05s  train_loss:29.6823\n",
      "Epoch 9, LR 0.1, Train_Time 37.39s, Loss: 12.3557\n"
     ]
    },
    {
     "name": "stderr",
     "output_type": "stream",
     "text": [
      "100%|██████████| 119/119 [00:33<00:00,  3.60it/s]\n"
     ]
    },
    {
     "name": "stdout",
     "output_type": "stream",
     "text": [
      "Evaluation on test set, \n",
      " ma: 0.7928,  pos_recall: 0.6188 , neg_recall: 0.9669 \n",
      " Acc: 0.7562, Prec: 0.8505, Rec: 0.8378, F1: 0.8423\n",
      "2020-06-21_13:08:08\n",
      "------------------------------------------------------------\n",
      "2020-06-21_13:08:14, Step 19/179 in Ep 10, 0.21s  train_loss:11.3380\n",
      "2020-06-21_13:08:18, Step 39/179 in Ep 10, 0.21s  train_loss:10.4202\n",
      "2020-06-21_13:08:23, Step 59/179 in Ep 10, 0.21s  train_loss:9.7733\n",
      "2020-06-21_13:08:27, Step 79/179 in Ep 10, 0.21s  train_loss:11.0779\n",
      "2020-06-21_13:08:31, Step 99/179 in Ep 10, 0.21s  train_loss:9.8664\n",
      "2020-06-21_13:08:35, Step 119/179 in Ep 10, 0.21s  train_loss:12.8820\n",
      "2020-06-21_13:08:39, Step 139/179 in Ep 10, 0.21s  train_loss:11.6751\n",
      "2020-06-21_13:08:43, Step 159/179 in Ep 10, 0.21s  train_loss:10.9732\n"
     ]
    },
    {
     "name": "stderr",
     "output_type": "stream",
     "text": [
      "\r",
      "  0%|          | 0/119 [00:00<?, ?it/s]"
     ]
    },
    {
     "name": "stdout",
     "output_type": "stream",
     "text": [
      "2020-06-21_13:08:47, Step 178/179 in Ep 10, 0.05s  train_loss:39.0822\n",
      "Epoch 10, LR 0.1, Train_Time 37.37s, Loss: 11.5398\n"
     ]
    },
    {
     "name": "stderr",
     "output_type": "stream",
     "text": [
      "100%|██████████| 119/119 [00:32<00:00,  3.62it/s]"
     ]
    },
    {
     "name": "stdout",
     "output_type": "stream",
     "text": [
      "Evaluation on test set, \n",
      " ma: 0.7915,  pos_recall: 0.6168 , neg_recall: 0.9662 \n",
      " Acc: 0.7476, Prec: 0.8422, Rec: 0.8311, F1: 0.8350\n",
      "2020-06-21_13:09:20\n",
      "------------------------------------------------------------\n"
     ]
    },
    {
     "name": "stderr",
     "output_type": "stream",
     "text": [
      "\n"
     ]
    },
    {
     "name": "stdout",
     "output_type": "stream",
     "text": [
      "2020-06-21_13:09:24, Step 19/179 in Ep 11, 0.21s  train_loss:9.6979\n",
      "2020-06-21_13:09:29, Step 39/179 in Ep 11, 0.21s  train_loss:10.6039\n",
      "2020-06-21_13:09:33, Step 59/179 in Ep 11, 0.21s  train_loss:12.0539\n",
      "2020-06-21_13:09:37, Step 79/179 in Ep 11, 0.21s  train_loss:9.8366\n",
      "2020-06-21_13:09:41, Step 99/179 in Ep 11, 0.21s  train_loss:11.6471\n",
      "2020-06-21_13:09:45, Step 119/179 in Ep 11, 0.21s  train_loss:10.4929\n",
      "2020-06-21_13:09:49, Step 139/179 in Ep 11, 0.21s  train_loss:10.9323\n",
      "2020-06-21_13:09:53, Step 159/179 in Ep 11, 0.21s  train_loss:11.2185\n"
     ]
    },
    {
     "name": "stderr",
     "output_type": "stream",
     "text": [
      "\r",
      "  0%|          | 0/119 [00:00<?, ?it/s]"
     ]
    },
    {
     "name": "stdout",
     "output_type": "stream",
     "text": [
      "2020-06-21_13:09:57, Step 178/179 in Ep 11, 0.05s  train_loss:20.6607\n",
      "Epoch 11, LR 0.1, Train_Time 37.37s, Loss: 10.6015\n"
     ]
    },
    {
     "name": "stderr",
     "output_type": "stream",
     "text": [
      "100%|██████████| 119/119 [00:33<00:00,  3.60it/s]\n"
     ]
    },
    {
     "name": "stdout",
     "output_type": "stream",
     "text": [
      "Evaluation on test set, \n",
      " ma: 0.7874,  pos_recall: 0.6113 , neg_recall: 0.9635 \n",
      " Acc: 0.7648, Prec: 0.8487, Rec: 0.8521, F1: 0.8489\n",
      "2020-06-21_13:10:30\n",
      "------------------------------------------------------------\n",
      "2020-06-21_13:10:37, Step 19/179 in Ep 12, 0.21s  train_loss:9.0555\n",
      "2020-06-21_13:10:41, Step 39/179 in Ep 12, 0.21s  train_loss:8.8414\n",
      "2020-06-21_13:10:45, Step 59/179 in Ep 12, 0.21s  train_loss:10.4398\n",
      "2020-06-21_13:10:49, Step 79/179 in Ep 12, 0.21s  train_loss:9.6773\n",
      "2020-06-21_13:10:53, Step 99/179 in Ep 12, 0.21s  train_loss:8.1361\n",
      "2020-06-21_13:10:57, Step 119/179 in Ep 12, 0.21s  train_loss:10.1180\n",
      "2020-06-21_13:11:02, Step 139/179 in Ep 12, 0.21s  train_loss:10.2868\n",
      "2020-06-21_13:11:06, Step 159/179 in Ep 12, 0.21s  train_loss:9.7609\n"
     ]
    },
    {
     "name": "stderr",
     "output_type": "stream",
     "text": [
      "\r",
      "  0%|          | 0/119 [00:00<?, ?it/s]"
     ]
    },
    {
     "name": "stdout",
     "output_type": "stream",
     "text": [
      "2020-06-21_13:11:09, Step 178/179 in Ep 12, 0.05s  train_loss:33.8913\n",
      "Epoch 12, LR 0.1, Train_Time 37.38s, Loss: 9.9723\n"
     ]
    },
    {
     "name": "stderr",
     "output_type": "stream",
     "text": [
      "100%|██████████| 119/119 [00:33<00:00,  3.60it/s]"
     ]
    },
    {
     "name": "stdout",
     "output_type": "stream",
     "text": [
      "Evaluation on test set, \n",
      " ma: 0.7948,  pos_recall: 0.6276 , neg_recall: 0.9621 \n",
      " Acc: 0.7550, Prec: 0.8382, Rec: 0.8477, F1: 0.8413\n",
      "2020-06-21_13:11:43\n",
      "------------------------------------------------------------\n"
     ]
    },
    {
     "name": "stderr",
     "output_type": "stream",
     "text": [
      "\n"
     ]
    },
    {
     "name": "stdout",
     "output_type": "stream",
     "text": [
      "2020-06-21_13:11:47, Step 19/179 in Ep 13, 0.21s  train_loss:8.7110\n",
      "2020-06-21_13:11:51, Step 39/179 in Ep 13, 0.21s  train_loss:8.6653\n",
      "2020-06-21_13:11:55, Step 59/179 in Ep 13, 0.21s  train_loss:9.6173\n",
      "2020-06-21_13:11:59, Step 79/179 in Ep 13, 0.21s  train_loss:10.2074\n",
      "2020-06-21_13:12:04, Step 99/179 in Ep 13, 0.21s  train_loss:10.1267\n",
      "2020-06-21_13:12:08, Step 119/179 in Ep 13, 0.21s  train_loss:9.1043\n",
      "2020-06-21_13:12:12, Step 139/179 in Ep 13, 0.21s  train_loss:9.0172\n",
      "2020-06-21_13:12:16, Step 159/179 in Ep 13, 0.21s  train_loss:9.8362\n"
     ]
    },
    {
     "name": "stderr",
     "output_type": "stream",
     "text": [
      "\r",
      "  0%|          | 0/119 [00:00<?, ?it/s]"
     ]
    },
    {
     "name": "stdout",
     "output_type": "stream",
     "text": [
      "2020-06-21_13:12:20, Step 178/179 in Ep 13, 0.05s  train_loss:33.0825\n",
      "Epoch 13, LR 0.1, Train_Time 37.37s, Loss: 9.3058\n"
     ]
    },
    {
     "name": "stderr",
     "output_type": "stream",
     "text": [
      "100%|██████████| 119/119 [00:32<00:00,  3.61it/s]\n"
     ]
    },
    {
     "name": "stdout",
     "output_type": "stream",
     "text": [
      "Evaluation on test set, \n",
      " ma: 0.7980,  pos_recall: 0.6301 , neg_recall: 0.9660 \n",
      " Acc: 0.7698, Prec: 0.8556, Rec: 0.8519, F1: 0.8523\n",
      "2020-06-21_13:12:53\n",
      "------------------------------------------------------------\n",
      "2020-06-21_13:12:59, Step 19/179 in Ep 14, 0.21s  train_loss:7.6367\n",
      "2020-06-21_13:13:03, Step 39/179 in Ep 14, 0.21s  train_loss:7.0423\n",
      "2020-06-21_13:13:07, Step 59/179 in Ep 14, 0.21s  train_loss:6.2174\n",
      "2020-06-21_13:13:12, Step 79/179 in Ep 14, 0.21s  train_loss:5.9164\n",
      "2020-06-21_13:13:16, Step 99/179 in Ep 14, 0.21s  train_loss:5.2721\n",
      "2020-06-21_13:13:20, Step 119/179 in Ep 14, 0.21s  train_loss:5.7422\n",
      "2020-06-21_13:13:24, Step 139/179 in Ep 14, 0.21s  train_loss:5.6728\n",
      "2020-06-21_13:13:28, Step 159/179 in Ep 14, 0.21s  train_loss:5.0160\n"
     ]
    },
    {
     "name": "stderr",
     "output_type": "stream",
     "text": [
      "\r",
      "  0%|          | 0/119 [00:00<?, ?it/s]"
     ]
    },
    {
     "name": "stdout",
     "output_type": "stream",
     "text": [
      "2020-06-21_13:13:32, Step 178/179 in Ep 14, 0.05s  train_loss:19.7739\n",
      "Epoch 14, LR 0.010000000000000002, Train_Time 37.38s, Loss: 6.3153\n"
     ]
    },
    {
     "name": "stderr",
     "output_type": "stream",
     "text": [
      "100%|██████████| 119/119 [00:33<00:00,  3.60it/s]\n"
     ]
    },
    {
     "name": "stdout",
     "output_type": "stream",
     "text": [
      "Evaluation on test set, \n",
      " ma: 0.8132,  pos_recall: 0.6556 , neg_recall: 0.9708 \n",
      " Acc: 0.7994, Prec: 0.8766, Rec: 0.8717, F1: 0.8729\n",
      "2020-06-21_13:14:05\n",
      "------------------------------------------------------------\n",
      "2020-06-21_13:14:11, Step 19/179 in Ep 15, 0.21s  train_loss:5.5876\n",
      "2020-06-21_13:14:16, Step 39/179 in Ep 15, 0.21s  train_loss:5.1484\n",
      "2020-06-21_13:14:20, Step 59/179 in Ep 15, 0.21s  train_loss:6.2814\n",
      "2020-06-21_13:14:24, Step 79/179 in Ep 15, 0.21s  train_loss:5.4592\n",
      "2020-06-21_13:14:28, Step 99/179 in Ep 15, 0.21s  train_loss:4.5310\n",
      "2020-06-21_13:14:32, Step 119/179 in Ep 15, 0.21s  train_loss:5.2457\n",
      "2020-06-21_13:14:36, Step 139/179 in Ep 15, 0.21s  train_loss:4.2896\n",
      "2020-06-21_13:14:40, Step 159/179 in Ep 15, 0.21s  train_loss:5.0253\n"
     ]
    },
    {
     "name": "stderr",
     "output_type": "stream",
     "text": [
      "\r",
      "  0%|          | 0/119 [00:00<?, ?it/s]"
     ]
    },
    {
     "name": "stdout",
     "output_type": "stream",
     "text": [
      "2020-06-21_13:14:44, Step 178/179 in Ep 15, 0.05s  train_loss:15.9262\n",
      "Epoch 15, LR 0.010000000000000002, Train_Time 37.34s, Loss: 4.9903\n"
     ]
    },
    {
     "name": "stderr",
     "output_type": "stream",
     "text": [
      "100%|██████████| 119/119 [00:33<00:00,  3.60it/s]\n"
     ]
    },
    {
     "name": "stdout",
     "output_type": "stream",
     "text": [
      "Evaluation on test set, \n",
      " ma: 0.8144,  pos_recall: 0.6569 , neg_recall: 0.9718 \n",
      " Acc: 0.8019, Prec: 0.8804, Rec: 0.8713, F1: 0.8745\n",
      "2020-06-21_13:15:17\n",
      "------------------------------------------------------------\n",
      "2020-06-21_13:15:24, Step 19/179 in Ep 16, 0.21s  train_loss:5.0564\n",
      "2020-06-21_13:15:28, Step 39/179 in Ep 16, 0.21s  train_loss:5.0935\n",
      "2020-06-21_13:15:32, Step 59/179 in Ep 16, 0.21s  train_loss:4.4585\n",
      "2020-06-21_13:15:36, Step 79/179 in Ep 16, 0.21s  train_loss:4.0287\n",
      "2020-06-21_13:15:40, Step 99/179 in Ep 16, 0.21s  train_loss:4.8209\n",
      "2020-06-21_13:15:44, Step 119/179 in Ep 16, 0.21s  train_loss:5.9739\n",
      "2020-06-21_13:15:48, Step 139/179 in Ep 16, 0.21s  train_loss:4.2645\n",
      "2020-06-21_13:15:53, Step 159/179 in Ep 16, 0.21s  train_loss:3.7462\n"
     ]
    },
    {
     "name": "stderr",
     "output_type": "stream",
     "text": [
      "\r",
      "  0%|          | 0/119 [00:00<?, ?it/s]"
     ]
    },
    {
     "name": "stdout",
     "output_type": "stream",
     "text": [
      "2020-06-21_13:15:56, Step 178/179 in Ep 16, 0.05s  train_loss:29.1030\n",
      "Epoch 16, LR 0.010000000000000002, Train_Time 37.41s, Loss: 4.5064\n"
     ]
    },
    {
     "name": "stderr",
     "output_type": "stream",
     "text": [
      "100%|██████████| 119/119 [00:33<00:00,  3.60it/s]\n"
     ]
    },
    {
     "name": "stdout",
     "output_type": "stream",
     "text": [
      "Evaluation on test set, \n",
      " ma: 0.8083,  pos_recall: 0.6461 , neg_recall: 0.9705 \n",
      " Acc: 0.8023, Prec: 0.8795, Rec: 0.8727, F1: 0.8747\n",
      "2020-06-21_13:16:30\n",
      "------------------------------------------------------------\n",
      "2020-06-21_13:16:36, Step 19/179 in Ep 17, 0.21s  train_loss:4.1226\n",
      "2020-06-21_13:16:40, Step 39/179 in Ep 17, 0.21s  train_loss:3.8092\n",
      "2020-06-21_13:16:44, Step 59/179 in Ep 17, 0.21s  train_loss:3.1598\n",
      "2020-06-21_13:16:48, Step 79/179 in Ep 17, 0.21s  train_loss:3.6146\n",
      "2020-06-21_13:16:52, Step 99/179 in Ep 17, 0.21s  train_loss:3.9893\n",
      "2020-06-21_13:16:56, Step 119/179 in Ep 17, 0.21s  train_loss:4.5888\n",
      "2020-06-21_13:17:01, Step 139/179 in Ep 17, 0.21s  train_loss:3.7498\n",
      "2020-06-21_13:17:05, Step 159/179 in Ep 17, 0.21s  train_loss:4.7179\n"
     ]
    },
    {
     "name": "stderr",
     "output_type": "stream",
     "text": [
      "\r",
      "  0%|          | 0/119 [00:00<?, ?it/s]"
     ]
    },
    {
     "name": "stdout",
     "output_type": "stream",
     "text": [
      "2020-06-21_13:17:09, Step 178/179 in Ep 17, 0.05s  train_loss:14.1721\n",
      "Epoch 17, LR 0.010000000000000002, Train_Time 37.39s, Loss: 4.0237\n"
     ]
    },
    {
     "name": "stderr",
     "output_type": "stream",
     "text": [
      "100%|██████████| 119/119 [00:32<00:00,  3.63it/s]"
     ]
    },
    {
     "name": "stdout",
     "output_type": "stream",
     "text": [
      "Evaluation on test set, \n",
      " ma: 0.8086,  pos_recall: 0.6462 , neg_recall: 0.9710 \n",
      " Acc: 0.8011, Prec: 0.8803, Rec: 0.8702, F1: 0.8739\n",
      "2020-06-21_13:17:41\n",
      "------------------------------------------------------------\n"
     ]
    },
    {
     "name": "stderr",
     "output_type": "stream",
     "text": [
      "\n"
     ]
    },
    {
     "name": "stdout",
     "output_type": "stream",
     "text": [
      "2020-06-21_13:17:46, Step 19/179 in Ep 18, 0.21s  train_loss:3.1070\n",
      "2020-06-21_13:17:50, Step 39/179 in Ep 18, 0.21s  train_loss:3.4007\n",
      "2020-06-21_13:17:54, Step 59/179 in Ep 18, 0.21s  train_loss:4.4204\n",
      "2020-06-21_13:17:58, Step 79/179 in Ep 18, 0.21s  train_loss:3.0514\n",
      "2020-06-21_13:18:03, Step 99/179 in Ep 18, 0.21s  train_loss:3.5533\n",
      "2020-06-21_13:18:07, Step 119/179 in Ep 18, 0.21s  train_loss:3.2738\n",
      "2020-06-21_13:18:11, Step 139/179 in Ep 18, 0.21s  train_loss:3.4449\n",
      "2020-06-21_13:18:15, Step 159/179 in Ep 18, 0.21s  train_loss:3.3636\n"
     ]
    },
    {
     "name": "stderr",
     "output_type": "stream",
     "text": [
      "\r",
      "  0%|          | 0/119 [00:00<?, ?it/s]"
     ]
    },
    {
     "name": "stdout",
     "output_type": "stream",
     "text": [
      "2020-06-21_13:18:19, Step 178/179 in Ep 18, 0.05s  train_loss:16.9458\n",
      "Epoch 18, LR 0.010000000000000002, Train_Time 37.42s, Loss: 3.7229\n"
     ]
    },
    {
     "name": "stderr",
     "output_type": "stream",
     "text": [
      "100%|██████████| 119/119 [00:33<00:00,  3.60it/s]"
     ]
    },
    {
     "name": "stdout",
     "output_type": "stream",
     "text": [
      "Evaluation on test set, \n",
      " ma: 0.8116,  pos_recall: 0.6522 , neg_recall: 0.9710 \n",
      " Acc: 0.8014, Prec: 0.8790, Rec: 0.8716, F1: 0.8740\n",
      "2020-06-21_13:18:52\n",
      "------------------------------------------------------------\n"
     ]
    },
    {
     "name": "stderr",
     "output_type": "stream",
     "text": [
      "\n"
     ]
    },
    {
     "name": "stdout",
     "output_type": "stream",
     "text": [
      "2020-06-21_13:18:56, Step 19/179 in Ep 19, 0.21s  train_loss:3.1105\n",
      "2020-06-21_13:19:01, Step 39/179 in Ep 19, 0.21s  train_loss:4.0838\n",
      "2020-06-21_13:19:05, Step 59/179 in Ep 19, 0.21s  train_loss:3.4427\n",
      "2020-06-21_13:19:09, Step 79/179 in Ep 19, 0.21s  train_loss:3.1458\n",
      "2020-06-21_13:19:13, Step 99/179 in Ep 19, 0.21s  train_loss:3.4516\n",
      "2020-06-21_13:19:17, Step 119/179 in Ep 19, 0.21s  train_loss:2.9645\n",
      "2020-06-21_13:19:21, Step 139/179 in Ep 19, 0.21s  train_loss:3.2690\n",
      "2020-06-21_13:19:25, Step 159/179 in Ep 19, 0.21s  train_loss:2.6670\n"
     ]
    },
    {
     "name": "stderr",
     "output_type": "stream",
     "text": [
      "\r",
      "  0%|          | 0/119 [00:00<?, ?it/s]"
     ]
    },
    {
     "name": "stdout",
     "output_type": "stream",
     "text": [
      "2020-06-21_13:19:29, Step 178/179 in Ep 19, 0.05s  train_loss:10.4220\n",
      "Epoch 19, LR 0.010000000000000002, Train_Time 37.32s, Loss: 3.4172\n"
     ]
    },
    {
     "name": "stderr",
     "output_type": "stream",
     "text": [
      "100%|██████████| 119/119 [00:32<00:00,  3.62it/s]\n"
     ]
    },
    {
     "name": "stdout",
     "output_type": "stream",
     "text": [
      "Evaluation on test set, \n",
      " ma: 0.8113,  pos_recall: 0.6511 , neg_recall: 0.9715 \n",
      " Acc: 0.8029, Prec: 0.8828, Rec: 0.8702, F1: 0.8751\n",
      "2020-06-21_13:20:02\n",
      "------------------------------------------------------------\n",
      "2020-06-21_13:20:09, Step 19/179 in Ep 20, 0.21s  train_loss:3.4971\n",
      "2020-06-21_13:20:13, Step 39/179 in Ep 20, 0.21s  train_loss:2.9629\n",
      "2020-06-21_13:20:17, Step 59/179 in Ep 20, 0.21s  train_loss:2.9188\n",
      "2020-06-21_13:20:21, Step 79/179 in Ep 20, 0.21s  train_loss:3.6108\n",
      "2020-06-21_13:20:25, Step 99/179 in Ep 20, 0.21s  train_loss:3.8644\n",
      "2020-06-21_13:20:29, Step 119/179 in Ep 20, 0.21s  train_loss:3.1471\n",
      "2020-06-21_13:20:34, Step 139/179 in Ep 20, 0.21s  train_loss:3.1995\n",
      "2020-06-21_13:20:38, Step 159/179 in Ep 20, 0.21s  train_loss:3.4598\n"
     ]
    },
    {
     "name": "stderr",
     "output_type": "stream",
     "text": [
      "\r",
      "  0%|          | 0/119 [00:00<?, ?it/s]"
     ]
    },
    {
     "name": "stdout",
     "output_type": "stream",
     "text": [
      "2020-06-21_13:20:42, Step 178/179 in Ep 20, 0.05s  train_loss:10.7462\n",
      "Epoch 20, LR 0.0010000000000000002, Train_Time 37.36s, Loss: 3.1181\n"
     ]
    },
    {
     "name": "stderr",
     "output_type": "stream",
     "text": [
      "100%|██████████| 119/119 [00:32<00:00,  3.61it/s]\n"
     ]
    },
    {
     "name": "stdout",
     "output_type": "stream",
     "text": [
      "Evaluation on test set, \n",
      " ma: 0.8135,  pos_recall: 0.6552 , neg_recall: 0.9718 \n",
      " Acc: 0.8037, Prec: 0.8826, Rec: 0.8714, F1: 0.8757\n",
      "2020-06-21_13:21:15\n",
      "------------------------------------------------------------\n",
      "2020-06-21_13:21:21, Step 19/179 in Ep 21, 0.21s  train_loss:3.2021\n",
      "2020-06-21_13:21:25, Step 39/179 in Ep 21, 0.21s  train_loss:2.4194\n",
      "2020-06-21_13:21:29, Step 59/179 in Ep 21, 0.21s  train_loss:2.9503\n",
      "2020-06-21_13:21:33, Step 79/179 in Ep 21, 0.21s  train_loss:2.5300\n",
      "2020-06-21_13:21:37, Step 99/179 in Ep 21, 0.21s  train_loss:3.0249\n",
      "2020-06-21_13:21:41, Step 119/179 in Ep 21, 0.21s  train_loss:2.4442\n",
      "2020-06-21_13:21:46, Step 139/179 in Ep 21, 0.21s  train_loss:3.1066\n",
      "2020-06-21_13:21:50, Step 159/179 in Ep 21, 0.21s  train_loss:3.2617\n"
     ]
    },
    {
     "name": "stderr",
     "output_type": "stream",
     "text": [
      "\r",
      "  0%|          | 0/119 [00:00<?, ?it/s]"
     ]
    },
    {
     "name": "stdout",
     "output_type": "stream",
     "text": [
      "2020-06-21_13:21:54, Step 178/179 in Ep 21, 0.05s  train_loss:17.1222\n",
      "Epoch 21, LR 0.0010000000000000002, Train_Time 37.37s, Loss: 3.0696\n"
     ]
    },
    {
     "name": "stderr",
     "output_type": "stream",
     "text": [
      "100%|██████████| 119/119 [00:32<00:00,  3.61it/s]"
     ]
    },
    {
     "name": "stdout",
     "output_type": "stream",
     "text": [
      "Evaluation on test set, \n",
      " ma: 0.8135,  pos_recall: 0.6555 , neg_recall: 0.9715 \n",
      " Acc: 0.8034, Prec: 0.8818, Rec: 0.8717, F1: 0.8754\n",
      "2020-06-21_13:22:27\n",
      "------------------------------------------------------------\n"
     ]
    },
    {
     "name": "stderr",
     "output_type": "stream",
     "text": [
      "\n"
     ]
    },
    {
     "name": "stdout",
     "output_type": "stream",
     "text": [
      "2020-06-21_13:22:31, Step 19/179 in Ep 22, 0.21s  train_loss:3.6347\n",
      "2020-06-21_13:22:35, Step 39/179 in Ep 22, 0.21s  train_loss:2.7990\n",
      "2020-06-21_13:22:39, Step 59/179 in Ep 22, 0.21s  train_loss:2.4535\n",
      "2020-06-21_13:22:44, Step 79/179 in Ep 22, 0.21s  train_loss:2.9875\n",
      "2020-06-21_13:22:48, Step 99/179 in Ep 22, 0.21s  train_loss:2.6063\n",
      "2020-06-21_13:22:52, Step 119/179 in Ep 22, 0.21s  train_loss:2.9269\n",
      "2020-06-21_13:22:56, Step 139/179 in Ep 22, 0.21s  train_loss:3.0146\n",
      "2020-06-21_13:23:00, Step 159/179 in Ep 22, 0.21s  train_loss:3.0362\n"
     ]
    },
    {
     "name": "stderr",
     "output_type": "stream",
     "text": [
      "\r",
      "  0%|          | 0/119 [00:00<?, ?it/s]"
     ]
    },
    {
     "name": "stdout",
     "output_type": "stream",
     "text": [
      "2020-06-21_13:23:04, Step 178/179 in Ep 22, 0.05s  train_loss:17.8570\n",
      "Epoch 22, LR 0.0010000000000000002, Train_Time 37.42s, Loss: 3.0211\n"
     ]
    },
    {
     "name": "stderr",
     "output_type": "stream",
     "text": [
      "100%|██████████| 119/119 [00:32<00:00,  3.62it/s]\n"
     ]
    },
    {
     "name": "stdout",
     "output_type": "stream",
     "text": [
      "Evaluation on test set, \n",
      " ma: 0.8163,  pos_recall: 0.6613 , neg_recall: 0.9712 \n",
      " Acc: 0.8042, Prec: 0.8819, Rec: 0.8730, F1: 0.8761\n",
      "2020-06-21_13:23:37\n",
      "------------------------------------------------------------\n",
      "2020-06-21_13:23:43, Step 19/179 in Ep 23, 0.21s  train_loss:2.7512\n",
      "2020-06-21_13:23:47, Step 39/179 in Ep 23, 0.21s  train_loss:2.6577\n",
      "2020-06-21_13:23:51, Step 59/179 in Ep 23, 0.21s  train_loss:2.9350\n",
      "2020-06-21_13:23:56, Step 79/179 in Ep 23, 0.21s  train_loss:3.4923\n",
      "2020-06-21_13:24:00, Step 99/179 in Ep 23, 0.21s  train_loss:3.2006\n",
      "2020-06-21_13:24:04, Step 119/179 in Ep 23, 0.21s  train_loss:2.8532\n",
      "2020-06-21_13:24:08, Step 139/179 in Ep 23, 0.21s  train_loss:2.8546\n",
      "2020-06-21_13:24:12, Step 159/179 in Ep 23, 0.21s  train_loss:2.5652\n"
     ]
    },
    {
     "name": "stderr",
     "output_type": "stream",
     "text": [
      "\r",
      "  0%|          | 0/119 [00:00<?, ?it/s]"
     ]
    },
    {
     "name": "stdout",
     "output_type": "stream",
     "text": [
      "2020-06-21_13:24:16, Step 178/179 in Ep 23, 0.05s  train_loss:19.5049\n",
      "Epoch 23, LR 0.0010000000000000002, Train_Time 37.38s, Loss: 3.0061\n"
     ]
    },
    {
     "name": "stderr",
     "output_type": "stream",
     "text": [
      "100%|██████████| 119/119 [00:32<00:00,  3.62it/s]"
     ]
    },
    {
     "name": "stdout",
     "output_type": "stream",
     "text": [
      "Evaluation on test set, \n",
      " ma: 0.8154,  pos_recall: 0.6585 , neg_recall: 0.9724 \n",
      " Acc: 0.8041, Prec: 0.8836, Rec: 0.8708, F1: 0.8758\n",
      "2020-06-21_13:24:49\n",
      "------------------------------------------------------------\n"
     ]
    },
    {
     "name": "stderr",
     "output_type": "stream",
     "text": [
      "\n"
     ]
    },
    {
     "name": "stdout",
     "output_type": "stream",
     "text": [
      "2020-06-21_13:24:53, Step 19/179 in Ep 24, 0.21s  train_loss:3.1030\n",
      "2020-06-21_13:24:58, Step 39/179 in Ep 24, 0.21s  train_loss:3.2259\n",
      "2020-06-21_13:25:02, Step 59/179 in Ep 24, 0.21s  train_loss:2.9371\n",
      "2020-06-21_13:25:06, Step 79/179 in Ep 24, 0.21s  train_loss:2.2075\n",
      "2020-06-21_13:25:10, Step 99/179 in Ep 24, 0.21s  train_loss:2.7035\n",
      "2020-06-21_13:25:14, Step 119/179 in Ep 24, 0.21s  train_loss:2.9667\n",
      "2020-06-21_13:25:18, Step 139/179 in Ep 24, 0.21s  train_loss:2.8291\n",
      "2020-06-21_13:25:22, Step 159/179 in Ep 24, 0.21s  train_loss:3.1007\n"
     ]
    },
    {
     "name": "stderr",
     "output_type": "stream",
     "text": [
      "\r",
      "  0%|          | 0/119 [00:00<?, ?it/s]"
     ]
    },
    {
     "name": "stdout",
     "output_type": "stream",
     "text": [
      "2020-06-21_13:25:26, Step 178/179 in Ep 24, 0.05s  train_loss:15.9426\n",
      "Epoch 24, LR 0.0010000000000000002, Train_Time 37.42s, Loss: 2.9376\n"
     ]
    },
    {
     "name": "stderr",
     "output_type": "stream",
     "text": [
      "100%|██████████| 119/119 [00:32<00:00,  3.61it/s]\n"
     ]
    },
    {
     "name": "stdout",
     "output_type": "stream",
     "text": [
      "Evaluation on test set, \n",
      " ma: 0.8107,  pos_recall: 0.6501 , neg_recall: 0.9714 \n",
      " Acc: 0.8041, Prec: 0.8824, Rec: 0.8722, F1: 0.8760\n",
      "2020-06-21_13:25:59\n",
      "------------------------------------------------------------\n",
      "2020-06-21_13:26:04, Step 19/179 in Ep 25, 0.21s  train_loss:3.5607\n",
      "2020-06-21_13:26:08, Step 39/179 in Ep 25, 0.21s  train_loss:3.1004\n",
      "2020-06-21_13:26:12, Step 59/179 in Ep 25, 0.21s  train_loss:2.6913\n",
      "2020-06-21_13:26:16, Step 79/179 in Ep 25, 0.21s  train_loss:2.9588\n",
      "2020-06-21_13:26:20, Step 99/179 in Ep 25, 0.21s  train_loss:2.7217\n",
      "2020-06-21_13:26:25, Step 119/179 in Ep 25, 0.21s  train_loss:2.7512\n",
      "2020-06-21_13:26:29, Step 139/179 in Ep 25, 0.21s  train_loss:3.0365\n",
      "2020-06-21_13:26:33, Step 159/179 in Ep 25, 0.21s  train_loss:2.8917\n"
     ]
    },
    {
     "name": "stderr",
     "output_type": "stream",
     "text": [
      "\r",
      "  0%|          | 0/119 [00:00<?, ?it/s]"
     ]
    },
    {
     "name": "stdout",
     "output_type": "stream",
     "text": [
      "2020-06-21_13:26:37, Step 178/179 in Ep 25, 0.05s  train_loss:29.3564\n",
      "Epoch 25, LR 0.00010000000000000003, Train_Time 37.43s, Loss: 2.9769\n"
     ]
    },
    {
     "name": "stderr",
     "output_type": "stream",
     "text": [
      "100%|██████████| 119/119 [00:32<00:00,  3.62it/s]"
     ]
    },
    {
     "name": "stdout",
     "output_type": "stream",
     "text": [
      "Evaluation on test set, \n",
      " ma: 0.8136,  pos_recall: 0.6555 , neg_recall: 0.9717 \n",
      " Acc: 0.8040, Prec: 0.8825, Rec: 0.8718, F1: 0.8758\n",
      "2020-06-21_13:27:10\n",
      "------------------------------------------------------------\n"
     ]
    },
    {
     "name": "stderr",
     "output_type": "stream",
     "text": [
      "\n"
     ]
    },
    {
     "name": "stdout",
     "output_type": "stream",
     "text": [
      "2020-06-21_13:27:14, Step 19/179 in Ep 26, 0.21s  train_loss:2.9053\n",
      "2020-06-21_13:27:18, Step 39/179 in Ep 26, 0.21s  train_loss:2.9611\n",
      "2020-06-21_13:27:22, Step 59/179 in Ep 26, 0.21s  train_loss:2.6231\n",
      "2020-06-21_13:27:27, Step 79/179 in Ep 26, 0.21s  train_loss:2.5681\n",
      "2020-06-21_13:27:31, Step 99/179 in Ep 26, 0.21s  train_loss:2.8094\n",
      "2020-06-21_13:27:35, Step 119/179 in Ep 26, 0.21s  train_loss:3.1835\n",
      "2020-06-21_13:27:39, Step 139/179 in Ep 26, 0.21s  train_loss:2.7993\n",
      "2020-06-21_13:27:43, Step 159/179 in Ep 26, 0.21s  train_loss:3.4376\n"
     ]
    },
    {
     "name": "stderr",
     "output_type": "stream",
     "text": [
      "\r",
      "  0%|          | 0/119 [00:00<?, ?it/s]"
     ]
    },
    {
     "name": "stdout",
     "output_type": "stream",
     "text": [
      "2020-06-21_13:27:47, Step 178/179 in Ep 26, 0.05s  train_loss:13.9512\n",
      "Epoch 26, LR 0.00010000000000000003, Train_Time 37.33s, Loss: 2.8952\n"
     ]
    },
    {
     "name": "stderr",
     "output_type": "stream",
     "text": [
      "100%|██████████| 119/119 [00:32<00:00,  3.62it/s]"
     ]
    },
    {
     "name": "stdout",
     "output_type": "stream",
     "text": [
      "Evaluation on test set, \n",
      " ma: 0.8155,  pos_recall: 0.6595 , neg_recall: 0.9715 \n",
      " Acc: 0.8037, Prec: 0.8824, Rec: 0.8716, F1: 0.8757\n",
      "2020-06-21_13:28:20\n",
      "------------------------------------------------------------\n"
     ]
    },
    {
     "name": "stderr",
     "output_type": "stream",
     "text": [
      "\n"
     ]
    },
    {
     "name": "stdout",
     "output_type": "stream",
     "text": [
      "2020-06-21_13:28:24, Step 19/179 in Ep 27, 0.21s  train_loss:2.2401\n",
      "2020-06-21_13:28:29, Step 39/179 in Ep 27, 0.21s  train_loss:2.8704\n",
      "2020-06-21_13:28:33, Step 59/179 in Ep 27, 0.21s  train_loss:3.2386\n",
      "2020-06-21_13:28:37, Step 79/179 in Ep 27, 0.21s  train_loss:3.1593\n",
      "2020-06-21_13:28:41, Step 99/179 in Ep 27, 0.21s  train_loss:2.3465\n",
      "2020-06-21_13:28:45, Step 119/179 in Ep 27, 0.21s  train_loss:2.4504\n",
      "2020-06-21_13:28:49, Step 139/179 in Ep 27, 0.21s  train_loss:2.3768\n",
      "2020-06-21_13:28:53, Step 159/179 in Ep 27, 0.21s  train_loss:3.0002\n"
     ]
    },
    {
     "name": "stderr",
     "output_type": "stream",
     "text": [
      "\r",
      "  0%|          | 0/119 [00:00<?, ?it/s]"
     ]
    },
    {
     "name": "stdout",
     "output_type": "stream",
     "text": [
      "2020-06-21_13:28:57, Step 178/179 in Ep 27, 0.05s  train_loss:13.4499\n",
      "Epoch 27, LR 0.00010000000000000003, Train_Time 37.37s, Loss: 2.8926\n"
     ]
    },
    {
     "name": "stderr",
     "output_type": "stream",
     "text": [
      "100%|██████████| 119/119 [00:32<00:00,  3.63it/s]\n"
     ]
    },
    {
     "name": "stdout",
     "output_type": "stream",
     "text": [
      "Evaluation on test set, \n",
      " ma: 0.8122,  pos_recall: 0.6528 , neg_recall: 0.9715 \n",
      " Acc: 0.8026, Prec: 0.8821, Rec: 0.8705, F1: 0.8749\n",
      "2020-06-21_13:29:30\n",
      "------------------------------------------------------------\n",
      "2020-06-21_13:29:35, Step 19/179 in Ep 28, 0.21s  train_loss:3.6661\n",
      "2020-06-21_13:29:39, Step 39/179 in Ep 28, 0.21s  train_loss:2.8402\n",
      "2020-06-21_13:29:43, Step 59/179 in Ep 28, 0.21s  train_loss:3.0603\n",
      "2020-06-21_13:29:47, Step 79/179 in Ep 28, 0.21s  train_loss:2.5575\n",
      "2020-06-21_13:29:51, Step 99/179 in Ep 28, 0.21s  train_loss:2.6839\n",
      "2020-06-21_13:29:55, Step 119/179 in Ep 28, 0.21s  train_loss:2.9107\n",
      "2020-06-21_13:30:00, Step 139/179 in Ep 28, 0.21s  train_loss:2.5432\n",
      "2020-06-21_13:30:04, Step 159/179 in Ep 28, 0.21s  train_loss:2.8544\n"
     ]
    },
    {
     "name": "stderr",
     "output_type": "stream",
     "text": [
      "\r",
      "  0%|          | 0/119 [00:00<?, ?it/s]"
     ]
    },
    {
     "name": "stdout",
     "output_type": "stream",
     "text": [
      "2020-06-21_13:30:07, Step 178/179 in Ep 28, 0.05s  train_loss:16.5339\n",
      "Epoch 28, LR 0.00010000000000000003, Train_Time 37.40s, Loss: 2.9137\n"
     ]
    },
    {
     "name": "stderr",
     "output_type": "stream",
     "text": [
      "100%|██████████| 119/119 [00:33<00:00,  3.60it/s]"
     ]
    },
    {
     "name": "stdout",
     "output_type": "stream",
     "text": [
      "Evaluation on test set, \n",
      " ma: 0.8171,  pos_recall: 0.6626 , neg_recall: 0.9716 \n",
      " Acc: 0.8035, Prec: 0.8815, Rec: 0.8722, F1: 0.8755\n",
      "2020-06-21_13:30:41\n",
      "------------------------------------------------------------\n"
     ]
    },
    {
     "name": "stderr",
     "output_type": "stream",
     "text": [
      "\n"
     ]
    },
    {
     "name": "stdout",
     "output_type": "stream",
     "text": [
      "2020-06-21_13:30:45, Step 19/179 in Ep 29, 0.21s  train_loss:2.4441\n",
      "2020-06-21_13:30:49, Step 39/179 in Ep 29, 0.21s  train_loss:2.7882\n",
      "2020-06-21_13:30:54, Step 59/179 in Ep 29, 0.21s  train_loss:2.6304\n",
      "2020-06-21_13:30:58, Step 79/179 in Ep 29, 0.21s  train_loss:2.3870\n",
      "2020-06-21_13:31:02, Step 99/179 in Ep 29, 0.21s  train_loss:2.6194\n",
      "2020-06-21_13:31:06, Step 119/179 in Ep 29, 0.21s  train_loss:2.9388\n",
      "2020-06-21_13:31:10, Step 139/179 in Ep 29, 0.21s  train_loss:2.4944\n",
      "2020-06-21_13:31:14, Step 159/179 in Ep 29, 0.21s  train_loss:2.6695\n"
     ]
    },
    {
     "name": "stderr",
     "output_type": "stream",
     "text": [
      "\r",
      "  0%|          | 0/119 [00:00<?, ?it/s]"
     ]
    },
    {
     "name": "stdout",
     "output_type": "stream",
     "text": [
      "2020-06-21_13:31:18, Step 178/179 in Ep 29, 0.05s  train_loss:11.1734\n",
      "Epoch 29, LR 0.00010000000000000003, Train_Time 37.42s, Loss: 2.8839\n"
     ]
    },
    {
     "name": "stderr",
     "output_type": "stream",
     "text": [
      "100%|██████████| 119/119 [00:32<00:00,  3.62it/s]\n"
     ]
    },
    {
     "name": "stdout",
     "output_type": "stream",
     "text": [
      "Evaluation on test set, \n",
      " ma: 0.8116,  pos_recall: 0.6516 , neg_recall: 0.9715 \n",
      " Acc: 0.8028, Prec: 0.8820, Rec: 0.8708, F1: 0.8750\n",
      "2020-06-21_13:31:51\n",
      "------------------------------------------------------------\n",
      "PETA,  best F1 score : 0.8761075020077669 in epoch22\n"
     ]
    }
   ],
   "source": [
    "main(args)"
   ]
  },
  {
   "cell_type": "code",
   "execution_count": null,
   "metadata": {},
   "outputs": [],
   "source": []
  },
  {
   "cell_type": "code",
   "execution_count": null,
   "metadata": {},
   "outputs": [],
   "source": []
  }
 ],
 "metadata": {
  "kernelspec": {
   "display_name": "Python 3",
   "language": "python",
   "name": "python3"
  },
  "language_info": {
   "codemirror_mode": {
    "name": "ipython",
    "version": 3
   },
   "file_extension": ".py",
   "mimetype": "text/x-python",
   "name": "python",
   "nbconvert_exporter": "python",
   "pygments_lexer": "ipython3",
   "version": "3.6.9"
  }
 },
 "nbformat": 4,
 "nbformat_minor": 2
}
