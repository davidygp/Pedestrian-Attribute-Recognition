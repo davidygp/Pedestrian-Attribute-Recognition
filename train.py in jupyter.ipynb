{
 "cells": [
  {
   "cell_type": "code",
   "execution_count": 1,
   "metadata": {},
   "outputs": [],
   "source": [
    "import sys"
   ]
  },
  {
   "cell_type": "code",
   "execution_count": 2,
   "metadata": {},
   "outputs": [
    {
     "data": {
      "text/plain": [
       "['/usr/lib/python36.zip',\n",
       " '/usr/lib/python3.6',\n",
       " '/usr/lib/python3.6/lib-dynload',\n",
       " '',\n",
       " '/usr/local/lib/python3.6/dist-packages',\n",
       " '/usr/lib/python3/dist-packages',\n",
       " '/usr/local/lib/python3.6/dist-packages/IPython/extensions',\n",
       " '/home/svu/e0384946/.ipython']"
      ]
     },
     "execution_count": 2,
     "metadata": {},
     "output_type": "execute_result"
    }
   ],
   "source": [
    "sys.path"
   ]
  },
  {
   "cell_type": "code",
   "execution_count": 3,
   "metadata": {},
   "outputs": [],
   "source": [
    "sys.path.append(\"/home/svu/e0384946/anaconda3/lib/python3.7/site-packages\")"
   ]
  },
  {
   "cell_type": "code",
   "execution_count": 4,
   "metadata": {},
   "outputs": [
    {
     "name": "stdout",
     "output_type": "stream",
     "text": [
      "/home/svu/e0384946/Strong_Baseline_of_Pedestrian_Attribute_Recognition\n"
     ]
    }
   ],
   "source": [
    "%cd Strong_Baseline_of_Pedestrian_Attribute_Recognition"
   ]
  },
  {
   "cell_type": "code",
   "execution_count": 5,
   "metadata": {},
   "outputs": [],
   "source": [
    "import os\n",
    "import pprint\n",
    "from collections import OrderedDict, defaultdict\n",
    "\n",
    "import numpy as np\n",
    "import torch\n",
    "from torch.optim.lr_scheduler import ReduceLROnPlateau\n",
    "from torch.utils.data import DataLoader\n",
    "\n",
    "from batch_engine import valid_trainer, batch_trainer\n",
    "from config import argument_parser\n",
    "from dataset.AttrDataset import AttrDataset, get_transform\n",
    "from loss.CE_loss import CEL_Sigmoid\n",
    "from models.base_block import FeatClassifier, BaseClassifier\n",
    "from models.resnet import resnet50\n",
    "from tools.function import get_model_log_path, get_pedestrian_metrics\n",
    "from tools.utils import time_str, save_ckpt, ReDirectSTD, set_seed\n",
    "\n",
    "set_seed(605)"
   ]
  },
  {
   "cell_type": "code",
   "execution_count": 6,
   "metadata": {},
   "outputs": [],
   "source": [
    "def main(args):\n",
    "    visenv_name = args.dataset\n",
    "    exp_dir = os.path.join('exp_result', args.dataset)\n",
    "    model_dir, log_dir = get_model_log_path(exp_dir, visenv_name)\n",
    "    stdout_file = os.path.join(log_dir, f'stdout_{time_str()}.txt')\n",
    "    save_model_path = os.path.join(model_dir, 'ckpt_max.pth')\n",
    "\n",
    "    if args.redirector:\n",
    "        print('redirector stdout')\n",
    "        ReDirectSTD(stdout_file, 'stdout', False)\n",
    "\n",
    "    pprint.pprint(OrderedDict(args.__dict__))\n",
    "\n",
    "    print('-' * 60)\n",
    "    print(f'use GPU{args.device} for training')\n",
    "    print(f'train set: {args.dataset} {args.train_split}, test set: {args.valid_split}')\n",
    "\n",
    "    train_tsfm, valid_tsfm = get_transform(args)\n",
    "    print(train_tsfm)\n",
    "\n",
    "    train_set = AttrDataset(args=args, split=args.train_split, transform=train_tsfm)\n",
    "\n",
    "    train_loader = DataLoader(\n",
    "        dataset=train_set,\n",
    "        batch_size=args.batchsize,\n",
    "        shuffle=True,\n",
    "        num_workers=4,\n",
    "        pin_memory=True,\n",
    "    )\n",
    "    valid_set = AttrDataset(args=args, split=args.valid_split, transform=valid_tsfm)\n",
    "\n",
    "    valid_loader = DataLoader(\n",
    "        dataset=valid_set,\n",
    "        batch_size=args.batchsize,\n",
    "        shuffle=False,\n",
    "        num_workers=4,\n",
    "        pin_memory=True,\n",
    "    )\n",
    "\n",
    "    print(f'{args.train_split} set: {len(train_loader.dataset)}, '\n",
    "          f'{args.valid_split} set: {len(valid_loader.dataset)}, '\n",
    "          f'attr_num : {train_set.attr_num}')\n",
    "\n",
    "    labels = train_set.label\n",
    "    sample_weight = labels.mean(0)\n",
    "\n",
    "    backbone = resnet50()\n",
    "    classifier = BaseClassifier(nattr=train_set.attr_num)\n",
    "    model = FeatClassifier(backbone, classifier)\n",
    "\n",
    "    if torch.cuda.is_available():\n",
    "        model = torch.nn.DataParallel(model).cuda()\n",
    "\n",
    "    criterion = CEL_Sigmoid(sample_weight)\n",
    "\n",
    "    param_groups = [{'params': model.module.finetune_params(), 'lr': args.lr_ft},\n",
    "                    {'params': model.module.fresh_params(), 'lr': args.lr_new}]\n",
    "    optimizer = torch.optim.SGD(param_groups, momentum=args.momentum, weight_decay=args.weight_decay, nesterov=False)\n",
    "    lr_scheduler = ReduceLROnPlateau(optimizer, factor=0.1, patience=4)\n",
    "\n",
    "    best_metric, epoch = trainer(epoch=args.train_epoch,\n",
    "                                 model=model,\n",
    "                                 train_loader=train_loader,\n",
    "                                 valid_loader=valid_loader,\n",
    "                                 criterion=criterion,\n",
    "                                 optimizer=optimizer,\n",
    "                                 lr_scheduler=lr_scheduler,\n",
    "                                 path=save_model_path)\n",
    "\n",
    "    print(f'{visenv_name},  best_metrc : {best_metric} in epoch{epoch}')\n",
    "\n",
    "\n",
    "def trainer(epoch, model, train_loader, valid_loader, criterion, optimizer, lr_scheduler,\n",
    "            path):\n",
    "    maximum = float(-np.inf)\n",
    "    best_epoch = 0\n",
    "\n",
    "    result_list = defaultdict()\n",
    "\n",
    "    for i in range(epoch):\n",
    "\n",
    "        train_loss, train_gt, train_probs = batch_trainer(\n",
    "            epoch=i,\n",
    "            model=model,\n",
    "            train_loader=train_loader,\n",
    "            criterion=criterion,\n",
    "            optimizer=optimizer,\n",
    "        )\n",
    "\n",
    "        valid_loss, valid_gt, valid_probs = valid_trainer(\n",
    "            model=model,\n",
    "            valid_loader=valid_loader,\n",
    "            criterion=criterion,\n",
    "        )\n",
    "\n",
    "        lr_scheduler.step(metrics=valid_loss, epoch=i)\n",
    "\n",
    "        train_result = get_pedestrian_metrics(train_gt, train_probs)\n",
    "        valid_result = get_pedestrian_metrics(valid_gt, valid_probs)\n",
    "\n",
    "        print(f'Evaluation on test set, \\n',\n",
    "              'ma: {:.4f},  pos_recall: {:.4f} , neg_recall: {:.4f} \\n'.format(\n",
    "                  valid_result.ma, np.mean(valid_result.label_pos_recall), np.mean(valid_result.label_neg_recall)),\n",
    "              'Acc: {:.4f}, Prec: {:.4f}, Rec: {:.4f}, F1: {:.4f}'.format(\n",
    "                  valid_result.instance_acc, valid_result.instance_prec, valid_result.instance_recall,\n",
    "                  valid_result.instance_f1))\n",
    "\n",
    "        print(f'{time_str()}')\n",
    "        print('-' * 60)\n",
    "\n",
    "        cur_metric = valid_result.ma\n",
    "\n",
    "        if cur_metric > maximum:\n",
    "            maximum = cur_metric\n",
    "            best_epoch = i\n",
    "            save_ckpt(model, path, i, maximum)\n",
    "\n",
    "        result_list[i] = [train_result, valid_result]\n",
    "\n",
    "    torch.save(result_list, os.path.join(os.path.dirname(path), 'metric_log.pkl'))\n",
    "\n",
    "    return maximum, best_epoch"
   ]
  },
  {
   "cell_type": "code",
   "execution_count": 7,
   "metadata": {},
   "outputs": [],
   "source": [
    "class args_config():\n",
    "    def __init__(self):\n",
    "        self.dataset=\"RAP\"\n",
    "        self.debug='store_false'\n",
    "        self.batchsize=64\n",
    "        self.train_epoch=30\n",
    "        self.height=256\n",
    "        self.width=192\n",
    "        self.lr_ft=0.01\n",
    "        self.lr_new=0.1\n",
    "        self.classifier='base'\n",
    "        self.momentum=0.9\n",
    "        self.weight_decay=5e-4\n",
    "        self.train_split=\"trainval\" #choices=['train' 'trainval']\n",
    "        self.valid_split=\"test\" #choices=['test' 'valid']\n",
    "        self.device=0\n",
    "        self.redirector='store_false'\n",
    "        self.use_bn='store_false'"
   ]
  },
  {
   "cell_type": "code",
   "execution_count": 8,
   "metadata": {},
   "outputs": [],
   "source": [
    "args = args_config()"
   ]
  },
  {
   "cell_type": "code",
   "execution_count": 10,
   "metadata": {},
   "outputs": [],
   "source": [
    "args.dataset = \"PETA\""
   ]
  },
  {
   "cell_type": "code",
   "execution_count": 11,
   "metadata": {
    "scrolled": true
   },
   "outputs": [
    {
     "name": "stdout",
     "output_type": "stream",
     "text": [
      "redirector stdout\n",
      "OrderedDict([('dataset', 'PETA'),\n",
      "             ('debug', 'store_false'),\n",
      "             ('batchsize', 64),\n",
      "             ('train_epoch', 30),\n",
      "             ('height', 256),\n",
      "             ('width', 192),\n",
      "             ('lr_ft', 0.01),\n",
      "             ('lr_new', 0.1),\n",
      "             ('classifier', 'base'),\n",
      "             ('momentum', 0.9),\n",
      "             ('weight_decay', 0.0005),\n",
      "             ('train_split', 'trainval'),\n",
      "             ('valid_split', 'test'),\n",
      "             ('device', 0),\n",
      "             ('redirector', 'store_false'),\n",
      "             ('use_bn', 'store_false')])\n",
      "------------------------------------------------------------\n",
      "use GPU0 for training\n",
      "train set: PETA trainval, test set: test\n",
      "Compose(\n",
      "    Resize(size=(256, 192), interpolation=PIL.Image.BILINEAR)\n",
      "    Pad(padding=10, fill=0, padding_mode=constant)\n",
      "    RandomCrop(size=(256, 192), padding=None)\n",
      "    RandomHorizontalFlip(p=0.5)\n",
      "    ToTensor()\n",
      "    Normalize(mean=[0.485, 0.456, 0.406], std=[0.229, 0.224, 0.225])\n",
      ")\n",
      "trainval set: 20900, test set: 19000, attr_num : 116\n",
      "2020-06-07_12:19:43, Step 19/327 in Ep 0, 0.20s  train_loss:67.4888\n",
      "2020-06-07_12:19:49, Step 39/327 in Ep 0, 0.21s  train_loss:42.9249\n",
      "2020-06-07_12:19:56, Step 59/327 in Ep 0, 0.21s  train_loss:38.0835\n",
      "2020-06-07_12:20:01, Step 79/327 in Ep 0, 0.21s  train_loss:35.5468\n",
      "2020-06-07_12:20:07, Step 99/327 in Ep 0, 0.21s  train_loss:34.6527\n",
      "2020-06-07_12:20:12, Step 119/327 in Ep 0, 0.21s  train_loss:32.3572\n",
      "2020-06-07_12:20:17, Step 139/327 in Ep 0, 0.21s  train_loss:31.2678\n",
      "2020-06-07_12:20:21, Step 159/327 in Ep 0, 0.21s  train_loss:27.2447\n",
      "2020-06-07_12:20:25, Step 179/327 in Ep 0, 0.21s  train_loss:31.4131\n",
      "2020-06-07_12:20:29, Step 199/327 in Ep 0, 0.21s  train_loss:28.0320\n",
      "2020-06-07_12:20:33, Step 219/327 in Ep 0, 0.21s  train_loss:29.2952\n",
      "2020-06-07_12:20:38, Step 239/327 in Ep 0, 0.21s  train_loss:28.3269\n",
      "2020-06-07_12:20:42, Step 259/327 in Ep 0, 0.21s  train_loss:25.8672\n",
      "2020-06-07_12:20:46, Step 279/327 in Ep 0, 0.21s  train_loss:26.1815\n",
      "2020-06-07_12:20:50, Step 299/327 in Ep 0, 0.21s  train_loss:24.3949\n",
      "2020-06-07_12:20:54, Step 319/327 in Ep 0, 0.21s  train_loss:26.8118\n"
     ]
    },
    {
     "name": "stderr",
     "output_type": "stream",
     "text": [
      "\r",
      "  0%|          | 0/297 [00:00<?, ?it/s]"
     ]
    },
    {
     "name": "stdout",
     "output_type": "stream",
     "text": [
      "2020-06-07_12:20:56, Step 326/327 in Ep 0, 0.13s  train_loss:26.3594\n",
      "Epoch 0, LR 0.1, Train_Time 82.08s, Loss: 35.0634\n"
     ]
    },
    {
     "name": "stderr",
     "output_type": "stream",
     "text": [
      "100%|██████████| 297/297 [01:34<00:00,  3.16it/s]\n"
     ]
    },
    {
     "name": "stdout",
     "output_type": "stream",
     "text": [
      "Evaluation on test set, \n",
      " ma: 0.7305,  pos_recall: 0.5032 , neg_recall: 0.9578 \n",
      " Acc: 0.7093, Prec: 0.8265, Rec: 0.8058, F1: 0.8136\n",
      "2020-06-07_12:22:30\n",
      "------------------------------------------------------------\n",
      "2020-06-07_12:22:37, Step 19/327 in Ep 1, 0.21s  train_loss:21.8404\n",
      "2020-06-07_12:22:41, Step 39/327 in Ep 1, 0.21s  train_loss:18.2222\n",
      "2020-06-07_12:22:45, Step 59/327 in Ep 1, 0.21s  train_loss:21.5531\n",
      "2020-06-07_12:22:49, Step 79/327 in Ep 1, 0.21s  train_loss:21.8963\n",
      "2020-06-07_12:22:53, Step 99/327 in Ep 1, 0.21s  train_loss:21.6304\n",
      "2020-06-07_12:22:57, Step 119/327 in Ep 1, 0.21s  train_loss:22.0239\n",
      "2020-06-07_12:23:02, Step 139/327 in Ep 1, 0.21s  train_loss:21.6277\n",
      "2020-06-07_12:23:06, Step 159/327 in Ep 1, 0.21s  train_loss:22.7798\n",
      "2020-06-07_12:23:10, Step 179/327 in Ep 1, 0.21s  train_loss:21.4556\n",
      "2020-06-07_12:23:14, Step 199/327 in Ep 1, 0.21s  train_loss:19.2526\n",
      "2020-06-07_12:23:18, Step 219/327 in Ep 1, 0.21s  train_loss:21.8597\n",
      "2020-06-07_12:23:23, Step 239/327 in Ep 1, 0.22s  train_loss:18.8715\n",
      "2020-06-07_12:23:27, Step 259/327 in Ep 1, 0.21s  train_loss:20.8662\n",
      "2020-06-07_12:23:31, Step 279/327 in Ep 1, 0.21s  train_loss:19.3923\n",
      "2020-06-07_12:23:35, Step 299/327 in Ep 1, 0.21s  train_loss:19.4321\n",
      "2020-06-07_12:23:39, Step 319/327 in Ep 1, 0.21s  train_loss:20.1285\n"
     ]
    },
    {
     "name": "stderr",
     "output_type": "stream",
     "text": [
      "\r",
      "  0%|          | 0/297 [00:00<?, ?it/s]"
     ]
    },
    {
     "name": "stdout",
     "output_type": "stream",
     "text": [
      "2020-06-07_12:23:41, Step 326/327 in Ep 1, 0.13s  train_loss:17.7901\n",
      "Epoch 1, LR 0.1, Train_Time 68.83s, Loss: 21.4874\n"
     ]
    },
    {
     "name": "stderr",
     "output_type": "stream",
     "text": [
      "100%|██████████| 297/297 [01:07<00:00,  4.39it/s]\n"
     ]
    },
    {
     "name": "stdout",
     "output_type": "stream",
     "text": [
      "Evaluation on test set, \n",
      " ma: 0.7698,  pos_recall: 0.5775 , neg_recall: 0.9622 \n",
      " Acc: 0.7302, Prec: 0.8353, Rec: 0.8227, F1: 0.8268\n",
      "2020-06-07_12:24:49\n",
      "------------------------------------------------------------\n",
      "2020-06-07_12:24:55, Step 19/327 in Ep 2, 0.21s  train_loss:17.6452\n",
      "2020-06-07_12:24:59, Step 39/327 in Ep 2, 0.21s  train_loss:19.0424\n",
      "2020-06-07_12:25:03, Step 59/327 in Ep 2, 0.21s  train_loss:18.3357\n",
      "2020-06-07_12:25:07, Step 79/327 in Ep 2, 0.21s  train_loss:17.0936\n",
      "2020-06-07_12:25:11, Step 99/327 in Ep 2, 0.21s  train_loss:16.4202\n",
      "2020-06-07_12:25:16, Step 119/327 in Ep 2, 0.21s  train_loss:17.6499\n",
      "2020-06-07_12:25:20, Step 139/327 in Ep 2, 0.21s  train_loss:19.4638\n",
      "2020-06-07_12:25:24, Step 159/327 in Ep 2, 0.21s  train_loss:17.1639\n",
      "2020-06-07_12:25:28, Step 179/327 in Ep 2, 0.21s  train_loss:15.7478\n",
      "2020-06-07_12:25:32, Step 199/327 in Ep 2, 0.21s  train_loss:17.4464\n",
      "2020-06-07_12:25:36, Step 219/327 in Ep 2, 0.22s  train_loss:19.0539\n",
      "2020-06-07_12:25:41, Step 239/327 in Ep 2, 0.22s  train_loss:18.6841\n",
      "2020-06-07_12:25:45, Step 259/327 in Ep 2, 0.21s  train_loss:16.1100\n",
      "2020-06-07_12:25:49, Step 279/327 in Ep 2, 0.21s  train_loss:16.6581\n",
      "2020-06-07_12:25:53, Step 299/327 in Ep 2, 0.21s  train_loss:14.2766\n",
      "2020-06-07_12:25:57, Step 319/327 in Ep 2, 0.21s  train_loss:18.7219\n"
     ]
    },
    {
     "name": "stderr",
     "output_type": "stream",
     "text": [
      "\r",
      "  0%|          | 0/297 [00:00<?, ?it/s]"
     ]
    },
    {
     "name": "stdout",
     "output_type": "stream",
     "text": [
      "2020-06-07_12:25:59, Step 326/327 in Ep 2, 0.13s  train_loss:18.3966\n",
      "Epoch 2, LR 0.1, Train_Time 68.66s, Loss: 17.6495\n"
     ]
    },
    {
     "name": "stderr",
     "output_type": "stream",
     "text": [
      "100%|██████████| 297/297 [01:06<00:00,  4.44it/s]\n"
     ]
    },
    {
     "name": "stdout",
     "output_type": "stream",
     "text": [
      "Evaluation on test set, \n",
      " ma: 0.7878,  pos_recall: 0.6103 , neg_recall: 0.9653 \n",
      " Acc: 0.7537, Prec: 0.8496, Rec: 0.8400, F1: 0.8429\n",
      "2020-06-07_12:27:06\n",
      "------------------------------------------------------------\n",
      "2020-06-07_12:27:12, Step 19/327 in Ep 3, 0.21s  train_loss:14.2961\n",
      "2020-06-07_12:27:16, Step 39/327 in Ep 3, 0.21s  train_loss:15.0173\n",
      "2020-06-07_12:27:21, Step 59/327 in Ep 3, 0.21s  train_loss:15.3126\n",
      "2020-06-07_12:27:25, Step 79/327 in Ep 3, 0.21s  train_loss:13.4355\n",
      "2020-06-07_12:27:29, Step 99/327 in Ep 3, 0.21s  train_loss:13.5112\n",
      "2020-06-07_12:27:33, Step 119/327 in Ep 3, 0.21s  train_loss:15.9319\n",
      "2020-06-07_12:27:37, Step 139/327 in Ep 3, 0.21s  train_loss:15.4609\n",
      "2020-06-07_12:27:41, Step 159/327 in Ep 3, 0.21s  train_loss:15.6786\n",
      "2020-06-07_12:27:45, Step 179/327 in Ep 3, 0.21s  train_loss:12.9895\n",
      "2020-06-07_12:27:49, Step 199/327 in Ep 3, 0.21s  train_loss:14.1276\n",
      "2020-06-07_12:27:54, Step 219/327 in Ep 3, 0.21s  train_loss:15.9532\n",
      "2020-06-07_12:27:58, Step 239/327 in Ep 3, 0.21s  train_loss:12.4384\n",
      "2020-06-07_12:28:02, Step 259/327 in Ep 3, 0.21s  train_loss:14.0645\n",
      "2020-06-07_12:28:06, Step 279/327 in Ep 3, 0.21s  train_loss:13.9966\n",
      "2020-06-07_12:28:11, Step 299/327 in Ep 3, 0.21s  train_loss:16.5347\n",
      "2020-06-07_12:28:15, Step 319/327 in Ep 3, 0.20s  train_loss:16.3129\n"
     ]
    },
    {
     "name": "stderr",
     "output_type": "stream",
     "text": [
      "\r",
      "  0%|          | 0/297 [00:00<?, ?it/s]"
     ]
    },
    {
     "name": "stdout",
     "output_type": "stream",
     "text": [
      "2020-06-07_12:28:16, Step 326/327 in Ep 3, 0.13s  train_loss:16.6985\n",
      "Epoch 3, LR 0.1, Train_Time 68.65s, Loss: 15.0218\n"
     ]
    },
    {
     "name": "stderr",
     "output_type": "stream",
     "text": [
      "100%|██████████| 297/297 [01:06<00:00,  4.45it/s]\n"
     ]
    },
    {
     "name": "stdout",
     "output_type": "stream",
     "text": [
      "Evaluation on test set, \n",
      " ma: 0.8136,  pos_recall: 0.6555 , neg_recall: 0.9718 \n",
      " Acc: 0.8076, Prec: 0.8793, Rec: 0.8851, F1: 0.8807\n",
      "2020-06-07_12:29:23\n",
      "------------------------------------------------------------\n",
      "2020-06-07_12:29:29, Step 19/327 in Ep 4, 0.21s  train_loss:12.3756\n",
      "2020-06-07_12:29:34, Step 39/327 in Ep 4, 0.21s  train_loss:11.4900\n",
      "2020-06-07_12:29:38, Step 59/327 in Ep 4, 0.21s  train_loss:12.1332\n",
      "2020-06-07_12:29:42, Step 79/327 in Ep 4, 0.21s  train_loss:12.9240\n",
      "2020-06-07_12:29:46, Step 99/327 in Ep 4, 0.21s  train_loss:10.5386\n",
      "2020-06-07_12:29:50, Step 119/327 in Ep 4, 0.21s  train_loss:13.3179\n",
      "2020-06-07_12:29:54, Step 139/327 in Ep 4, 0.21s  train_loss:13.0842\n",
      "2020-06-07_12:29:58, Step 159/327 in Ep 4, 0.21s  train_loss:11.9162\n",
      "2020-06-07_12:30:02, Step 179/327 in Ep 4, 0.21s  train_loss:13.3408\n",
      "2020-06-07_12:30:07, Step 199/327 in Ep 4, 0.21s  train_loss:16.6757\n",
      "2020-06-07_12:30:11, Step 219/327 in Ep 4, 0.21s  train_loss:13.0821\n",
      "2020-06-07_12:30:15, Step 239/327 in Ep 4, 0.21s  train_loss:12.1961\n",
      "2020-06-07_12:30:19, Step 259/327 in Ep 4, 0.21s  train_loss:16.9207\n",
      "2020-06-07_12:30:23, Step 279/327 in Ep 4, 0.21s  train_loss:12.5541\n",
      "2020-06-07_12:30:28, Step 299/327 in Ep 4, 0.21s  train_loss:14.1499\n",
      "2020-06-07_12:30:32, Step 319/327 in Ep 4, 0.20s  train_loss:12.6092\n"
     ]
    },
    {
     "name": "stderr",
     "output_type": "stream",
     "text": [
      "\r",
      "  0%|          | 0/297 [00:00<?, ?it/s]"
     ]
    },
    {
     "name": "stdout",
     "output_type": "stream",
     "text": [
      "2020-06-07_12:30:33, Step 326/327 in Ep 4, 0.13s  train_loss:15.7022\n",
      "Epoch 4, LR 0.1, Train_Time 68.64s, Loss: 12.9472\n"
     ]
    },
    {
     "name": "stderr",
     "output_type": "stream",
     "text": [
      "100%|██████████| 297/297 [01:06<00:00,  4.45it/s]\n"
     ]
    },
    {
     "name": "stdout",
     "output_type": "stream",
     "text": [
      "Evaluation on test set, \n",
      " ma: 0.8317,  pos_recall: 0.6881 , neg_recall: 0.9753 \n",
      " Acc: 0.8207, Prec: 0.8922, Rec: 0.8888, F1: 0.8890\n",
      "2020-06-07_12:31:40\n",
      "------------------------------------------------------------\n",
      "2020-06-07_12:31:46, Step 19/327 in Ep 5, 0.21s  train_loss:10.3156\n",
      "2020-06-07_12:31:51, Step 39/327 in Ep 5, 0.21s  train_loss:13.4146\n",
      "2020-06-07_12:31:55, Step 59/327 in Ep 5, 0.21s  train_loss:10.2394\n",
      "2020-06-07_12:31:59, Step 79/327 in Ep 5, 0.21s  train_loss:11.6171\n",
      "2020-06-07_12:32:03, Step 99/327 in Ep 5, 0.21s  train_loss:13.3899\n",
      "2020-06-07_12:32:07, Step 119/327 in Ep 5, 0.21s  train_loss:11.7217\n",
      "2020-06-07_12:32:11, Step 139/327 in Ep 5, 0.21s  train_loss:11.5803\n",
      "2020-06-07_12:32:15, Step 159/327 in Ep 5, 0.21s  train_loss:12.5870\n",
      "2020-06-07_12:32:20, Step 179/327 in Ep 5, 0.21s  train_loss:10.4041\n",
      "2020-06-07_12:32:24, Step 199/327 in Ep 5, 0.21s  train_loss:12.5968\n",
      "2020-06-07_12:32:28, Step 219/327 in Ep 5, 0.21s  train_loss:12.5558\n",
      "2020-06-07_12:32:32, Step 239/327 in Ep 5, 0.21s  train_loss:11.2541\n",
      "2020-06-07_12:32:36, Step 259/327 in Ep 5, 0.21s  train_loss:11.4216\n",
      "2020-06-07_12:32:41, Step 279/327 in Ep 5, 0.21s  train_loss:12.3846\n",
      "2020-06-07_12:32:45, Step 299/327 in Ep 5, 0.21s  train_loss:10.5757\n",
      "2020-06-07_12:32:49, Step 319/327 in Ep 5, 0.21s  train_loss:11.6241\n"
     ]
    },
    {
     "name": "stderr",
     "output_type": "stream",
     "text": [
      "\r",
      "  0%|          | 0/297 [00:00<?, ?it/s]"
     ]
    },
    {
     "name": "stdout",
     "output_type": "stream",
     "text": [
      "2020-06-07_12:32:50, Step 326/327 in Ep 5, 0.13s  train_loss:13.1817\n",
      "Epoch 5, LR 0.1, Train_Time 68.61s, Loss: 11.2977\n"
     ]
    },
    {
     "name": "stderr",
     "output_type": "stream",
     "text": [
      "100%|██████████| 297/297 [01:07<00:00,  4.43it/s]\n"
     ]
    },
    {
     "name": "stdout",
     "output_type": "stream",
     "text": [
      "Evaluation on test set, \n",
      " ma: 0.8379,  pos_recall: 0.7008 , neg_recall: 0.9749 \n",
      " Acc: 0.8259, Prec: 0.8900, Rec: 0.8965, F1: 0.8919\n",
      "2020-06-07_12:33:58\n",
      "------------------------------------------------------------\n",
      "2020-06-07_12:34:04, Step 19/327 in Ep 6, 0.21s  train_loss:12.5093\n",
      "2020-06-07_12:34:08, Step 39/327 in Ep 6, 0.21s  train_loss:7.6389\n",
      "2020-06-07_12:34:12, Step 59/327 in Ep 6, 0.21s  train_loss:9.2340\n",
      "2020-06-07_12:34:16, Step 79/327 in Ep 6, 0.21s  train_loss:9.6579\n",
      "2020-06-07_12:34:20, Step 99/327 in Ep 6, 0.21s  train_loss:9.4497\n",
      "2020-06-07_12:34:25, Step 119/327 in Ep 6, 0.21s  train_loss:9.8676\n",
      "2020-06-07_12:34:29, Step 139/327 in Ep 6, 0.21s  train_loss:10.6614\n",
      "2020-06-07_12:34:33, Step 159/327 in Ep 6, 0.21s  train_loss:12.2228\n",
      "2020-06-07_12:34:37, Step 179/327 in Ep 6, 0.21s  train_loss:11.1252\n",
      "2020-06-07_12:34:41, Step 199/327 in Ep 6, 0.21s  train_loss:9.8865\n",
      "2020-06-07_12:34:45, Step 219/327 in Ep 6, 0.21s  train_loss:8.7205\n",
      "2020-06-07_12:34:49, Step 239/327 in Ep 6, 0.22s  train_loss:9.8775\n",
      "2020-06-07_12:34:54, Step 259/327 in Ep 6, 0.21s  train_loss:10.5236\n",
      "2020-06-07_12:34:58, Step 279/327 in Ep 6, 0.21s  train_loss:9.4023\n",
      "2020-06-07_12:35:02, Step 299/327 in Ep 6, 0.21s  train_loss:10.4857\n",
      "2020-06-07_12:35:06, Step 319/327 in Ep 6, 0.21s  train_loss:10.9451\n"
     ]
    },
    {
     "name": "stderr",
     "output_type": "stream",
     "text": [
      "\r",
      "  0%|          | 0/297 [00:00<?, ?it/s]"
     ]
    },
    {
     "name": "stdout",
     "output_type": "stream",
     "text": [
      "2020-06-07_12:35:08, Step 326/327 in Ep 6, 0.13s  train_loss:12.7369\n",
      "Epoch 6, LR 0.1, Train_Time 68.69s, Loss: 9.9109\n"
     ]
    },
    {
     "name": "stderr",
     "output_type": "stream",
     "text": [
      "100%|██████████| 297/297 [01:06<00:00,  4.44it/s]\n"
     ]
    },
    {
     "name": "stdout",
     "output_type": "stream",
     "text": [
      "Evaluation on test set, \n",
      " ma: 0.8404,  pos_recall: 0.7049 , neg_recall: 0.9758 \n",
      " Acc: 0.8337, Prec: 0.9002, Rec: 0.8961, F1: 0.8968\n",
      "2020-06-07_12:36:15\n",
      "------------------------------------------------------------\n",
      "2020-06-07_12:36:22, Step 19/327 in Ep 7, 0.21s  train_loss:8.0415\n",
      "2020-06-07_12:36:26, Step 39/327 in Ep 7, 0.21s  train_loss:9.3480\n",
      "2020-06-07_12:36:30, Step 59/327 in Ep 7, 0.21s  train_loss:9.6532\n",
      "2020-06-07_12:36:34, Step 79/327 in Ep 7, 0.21s  train_loss:9.0791\n",
      "2020-06-07_12:36:38, Step 99/327 in Ep 7, 0.21s  train_loss:8.9358\n",
      "2020-06-07_12:36:42, Step 119/327 in Ep 7, 0.21s  train_loss:7.2678\n",
      "2020-06-07_12:36:47, Step 139/327 in Ep 7, 0.21s  train_loss:7.0247\n",
      "2020-06-07_12:36:51, Step 159/327 in Ep 7, 0.21s  train_loss:9.0114\n",
      "2020-06-07_12:36:55, Step 179/327 in Ep 7, 0.21s  train_loss:8.4607\n",
      "2020-06-07_12:36:59, Step 199/327 in Ep 7, 0.21s  train_loss:9.5008\n",
      "2020-06-07_12:37:03, Step 219/327 in Ep 7, 0.21s  train_loss:9.3501\n",
      "2020-06-07_12:37:07, Step 239/327 in Ep 7, 0.21s  train_loss:8.8505\n",
      "2020-06-07_12:37:12, Step 259/327 in Ep 7, 0.21s  train_loss:7.4487\n",
      "2020-06-07_12:37:16, Step 279/327 in Ep 7, 0.21s  train_loss:8.1880\n",
      "2020-06-07_12:37:20, Step 299/327 in Ep 7, 0.21s  train_loss:10.4709\n",
      "2020-06-07_12:37:24, Step 319/327 in Ep 7, 0.21s  train_loss:9.0879\n"
     ]
    },
    {
     "name": "stderr",
     "output_type": "stream",
     "text": [
      "\r",
      "  0%|          | 0/297 [00:00<?, ?it/s]"
     ]
    },
    {
     "name": "stdout",
     "output_type": "stream",
     "text": [
      "2020-06-07_12:37:26, Step 326/327 in Ep 7, 0.13s  train_loss:9.7478\n",
      "Epoch 7, LR 0.1, Train_Time 68.75s, Loss: 8.7948\n"
     ]
    },
    {
     "name": "stderr",
     "output_type": "stream",
     "text": [
      "100%|██████████| 297/297 [01:07<00:00,  4.43it/s]\n"
     ]
    },
    {
     "name": "stdout",
     "output_type": "stream",
     "text": [
      "Evaluation on test set, \n",
      " ma: 0.8551,  pos_recall: 0.7315 , neg_recall: 0.9788 \n",
      " Acc: 0.8459, Prec: 0.9040, Rec: 0.9083, F1: 0.9049\n",
      "2020-06-07_12:38:33\n",
      "------------------------------------------------------------\n",
      "2020-06-07_12:38:40, Step 19/327 in Ep 8, 0.21s  train_loss:7.0234\n",
      "2020-06-07_12:38:44, Step 39/327 in Ep 8, 0.21s  train_loss:6.1519\n",
      "2020-06-07_12:38:48, Step 59/327 in Ep 8, 0.21s  train_loss:6.5190\n",
      "2020-06-07_12:38:52, Step 79/327 in Ep 8, 0.21s  train_loss:7.4906\n",
      "2020-06-07_12:38:56, Step 99/327 in Ep 8, 0.21s  train_loss:7.5556\n",
      "2020-06-07_12:39:00, Step 119/327 in Ep 8, 0.21s  train_loss:8.2966\n",
      "2020-06-07_12:39:04, Step 139/327 in Ep 8, 0.21s  train_loss:8.5992\n",
      "2020-06-07_12:39:09, Step 159/327 in Ep 8, 0.21s  train_loss:8.5653\n",
      "2020-06-07_12:39:13, Step 179/327 in Ep 8, 0.21s  train_loss:8.2526\n",
      "2020-06-07_12:39:17, Step 199/327 in Ep 8, 0.21s  train_loss:7.5811\n",
      "2020-06-07_12:39:21, Step 219/327 in Ep 8, 0.21s  train_loss:7.9539\n",
      "2020-06-07_12:39:25, Step 239/327 in Ep 8, 0.21s  train_loss:7.9733\n",
      "2020-06-07_12:39:30, Step 259/327 in Ep 8, 0.21s  train_loss:9.6730\n",
      "2020-06-07_12:39:34, Step 279/327 in Ep 8, 0.21s  train_loss:7.8014\n",
      "2020-06-07_12:39:38, Step 299/327 in Ep 8, 0.21s  train_loss:7.8396\n",
      "2020-06-07_12:39:42, Step 319/327 in Ep 8, 0.21s  train_loss:8.8797\n"
     ]
    },
    {
     "name": "stderr",
     "output_type": "stream",
     "text": [
      "\r",
      "  0%|          | 0/297 [00:00<?, ?it/s]"
     ]
    },
    {
     "name": "stdout",
     "output_type": "stream",
     "text": [
      "2020-06-07_12:39:44, Step 326/327 in Ep 8, 0.13s  train_loss:9.0215\n",
      "Epoch 8, LR 0.1, Train_Time 68.73s, Loss: 7.8214\n"
     ]
    },
    {
     "name": "stderr",
     "output_type": "stream",
     "text": [
      "100%|██████████| 297/297 [01:06<00:00,  4.44it/s]\n"
     ]
    },
    {
     "name": "stdout",
     "output_type": "stream",
     "text": [
      "Evaluation on test set, \n",
      " ma: 0.8583,  pos_recall: 0.7370 , neg_recall: 0.9795 \n",
      " Acc: 0.8572, Prec: 0.9131, Rec: 0.9127, F1: 0.9117\n",
      "2020-06-07_12:40:51\n",
      "------------------------------------------------------------\n",
      "2020-06-07_12:40:57, Step 19/327 in Ep 9, 0.21s  train_loss:7.7814\n",
      "2020-06-07_12:41:01, Step 39/327 in Ep 9, 0.21s  train_loss:6.0632\n",
      "2020-06-07_12:41:05, Step 59/327 in Ep 9, 0.21s  train_loss:7.9887\n",
      "2020-06-07_12:41:09, Step 79/327 in Ep 9, 0.21s  train_loss:7.9433\n",
      "2020-06-07_12:41:14, Step 99/327 in Ep 9, 0.21s  train_loss:6.8140\n",
      "2020-06-07_12:41:18, Step 119/327 in Ep 9, 0.21s  train_loss:6.6566\n",
      "2020-06-07_12:41:22, Step 139/327 in Ep 9, 0.21s  train_loss:7.6865\n",
      "2020-06-07_12:41:26, Step 159/327 in Ep 9, 0.21s  train_loss:6.9463\n",
      "2020-06-07_12:41:30, Step 179/327 in Ep 9, 0.21s  train_loss:6.7351\n",
      "2020-06-07_12:41:34, Step 199/327 in Ep 9, 0.21s  train_loss:8.1026\n",
      "2020-06-07_12:41:38, Step 219/327 in Ep 9, 0.21s  train_loss:6.2422\n",
      "2020-06-07_12:41:43, Step 239/327 in Ep 9, 0.21s  train_loss:6.7524\n",
      "2020-06-07_12:41:47, Step 259/327 in Ep 9, 0.21s  train_loss:7.2301\n",
      "2020-06-07_12:41:51, Step 279/327 in Ep 9, 0.21s  train_loss:7.0813\n",
      "2020-06-07_12:41:55, Step 299/327 in Ep 9, 0.21s  train_loss:6.8377\n",
      "2020-06-07_12:41:59, Step 319/327 in Ep 9, 0.21s  train_loss:5.9530\n"
     ]
    },
    {
     "name": "stderr",
     "output_type": "stream",
     "text": [
      "\r",
      "  0%|          | 0/297 [00:00<?, ?it/s]"
     ]
    },
    {
     "name": "stdout",
     "output_type": "stream",
     "text": [
      "2020-06-07_12:42:01, Step 326/327 in Ep 9, 0.13s  train_loss:10.4902\n",
      "Epoch 9, LR 0.1, Train_Time 68.59s, Loss: 7.1422\n"
     ]
    },
    {
     "name": "stderr",
     "output_type": "stream",
     "text": [
      "100%|██████████| 297/297 [01:06<00:00,  4.44it/s]\n"
     ]
    },
    {
     "name": "stdout",
     "output_type": "stream",
     "text": [
      "Evaluation on test set, \n",
      " ma: 0.8733,  pos_recall: 0.7662 , neg_recall: 0.9805 \n",
      " Acc: 0.8666, Prec: 0.9192, Rec: 0.9178, F1: 0.9175\n",
      "2020-06-07_12:43:08\n",
      "------------------------------------------------------------\n",
      "2020-06-07_12:43:14, Step 19/327 in Ep 10, 0.21s  train_loss:5.4395\n",
      "2020-06-07_12:43:18, Step 39/327 in Ep 10, 0.21s  train_loss:5.8330\n",
      "2020-06-07_12:43:22, Step 59/327 in Ep 10, 0.21s  train_loss:6.3077\n",
      "2020-06-07_12:43:27, Step 79/327 in Ep 10, 0.21s  train_loss:7.0395\n",
      "2020-06-07_12:43:31, Step 99/327 in Ep 10, 0.21s  train_loss:6.7744\n",
      "2020-06-07_12:43:35, Step 119/327 in Ep 10, 0.21s  train_loss:6.1021\n",
      "2020-06-07_12:43:39, Step 139/327 in Ep 10, 0.21s  train_loss:6.3174\n",
      "2020-06-07_12:43:43, Step 159/327 in Ep 10, 0.21s  train_loss:6.9362\n",
      "2020-06-07_12:43:47, Step 179/327 in Ep 10, 0.21s  train_loss:6.1802\n",
      "2020-06-07_12:43:51, Step 199/327 in Ep 10, 0.21s  train_loss:6.7306\n",
      "2020-06-07_12:43:56, Step 219/327 in Ep 10, 0.21s  train_loss:8.0755\n",
      "2020-06-07_12:44:00, Step 239/327 in Ep 10, 0.21s  train_loss:5.3910\n",
      "2020-06-07_12:44:04, Step 259/327 in Ep 10, 0.21s  train_loss:5.7908\n",
      "2020-06-07_12:44:08, Step 279/327 in Ep 10, 0.21s  train_loss:5.5237\n",
      "2020-06-07_12:44:12, Step 299/327 in Ep 10, 0.21s  train_loss:6.7426\n",
      "2020-06-07_12:44:17, Step 319/327 in Ep 10, 0.21s  train_loss:6.3062\n"
     ]
    },
    {
     "name": "stderr",
     "output_type": "stream",
     "text": [
      "\r",
      "  0%|          | 0/297 [00:00<?, ?it/s]"
     ]
    },
    {
     "name": "stdout",
     "output_type": "stream",
     "text": [
      "2020-06-07_12:44:18, Step 326/327 in Ep 10, 0.13s  train_loss:6.8363\n",
      "Epoch 10, LR 0.1, Train_Time 68.68s, Loss: 6.5419\n"
     ]
    },
    {
     "name": "stderr",
     "output_type": "stream",
     "text": [
      "100%|██████████| 297/297 [01:06<00:00,  4.45it/s]"
     ]
    },
    {
     "name": "stdout",
     "output_type": "stream",
     "text": [
      "Evaluation on test set, \n",
      " ma: 0.8656,  pos_recall: 0.7525 , neg_recall: 0.9787 \n",
      " Acc: 0.8614, Prec: 0.9128, Rec: 0.9171, F1: 0.9139\n",
      "2020-06-07_12:45:25\n",
      "------------------------------------------------------------\n"
     ]
    },
    {
     "name": "stderr",
     "output_type": "stream",
     "text": [
      "\n"
     ]
    },
    {
     "name": "stdout",
     "output_type": "stream",
     "text": [
      "2020-06-07_12:45:30, Step 19/327 in Ep 11, 0.21s  train_loss:5.5849\n",
      "2020-06-07_12:45:34, Step 39/327 in Ep 11, 0.21s  train_loss:5.7501\n",
      "2020-06-07_12:45:38, Step 59/327 in Ep 11, 0.21s  train_loss:6.4170\n",
      "2020-06-07_12:45:42, Step 79/327 in Ep 11, 0.21s  train_loss:6.5720\n",
      "2020-06-07_12:45:46, Step 99/327 in Ep 11, 0.21s  train_loss:5.6203\n",
      "2020-06-07_12:45:50, Step 119/327 in Ep 11, 0.21s  train_loss:5.7809\n",
      "2020-06-07_12:45:55, Step 139/327 in Ep 11, 0.21s  train_loss:6.4823\n",
      "2020-06-07_12:45:59, Step 159/327 in Ep 11, 0.21s  train_loss:6.5551\n",
      "2020-06-07_12:46:03, Step 179/327 in Ep 11, 0.21s  train_loss:5.2078\n",
      "2020-06-07_12:46:07, Step 199/327 in Ep 11, 0.21s  train_loss:5.4192\n",
      "2020-06-07_12:46:11, Step 219/327 in Ep 11, 0.21s  train_loss:5.7570\n",
      "2020-06-07_12:46:15, Step 239/327 in Ep 11, 0.21s  train_loss:4.6705\n",
      "2020-06-07_12:46:20, Step 259/327 in Ep 11, 0.21s  train_loss:5.9474\n",
      "2020-06-07_12:46:24, Step 279/327 in Ep 11, 0.21s  train_loss:5.1685\n",
      "2020-06-07_12:46:28, Step 299/327 in Ep 11, 0.21s  train_loss:5.9347\n",
      "2020-06-07_12:46:32, Step 319/327 in Ep 11, 0.21s  train_loss:6.6121\n"
     ]
    },
    {
     "name": "stderr",
     "output_type": "stream",
     "text": [
      "\r",
      "  0%|          | 0/297 [00:00<?, ?it/s]"
     ]
    },
    {
     "name": "stdout",
     "output_type": "stream",
     "text": [
      "2020-06-07_12:46:34, Step 326/327 in Ep 11, 0.13s  train_loss:8.1815\n",
      "Epoch 11, LR 0.1, Train_Time 68.63s, Loss: 6.0453\n"
     ]
    },
    {
     "name": "stderr",
     "output_type": "stream",
     "text": [
      "100%|██████████| 297/297 [01:07<00:00,  4.43it/s]\n"
     ]
    },
    {
     "name": "stdout",
     "output_type": "stream",
     "text": [
      "Evaluation on test set, \n",
      " ma: 0.8743,  pos_recall: 0.7673 , neg_recall: 0.9813 \n",
      " Acc: 0.8739, Prec: 0.9218, Rec: 0.9240, F1: 0.9219\n",
      "2020-06-07_12:47:41\n",
      "------------------------------------------------------------\n",
      "2020-06-07_12:47:47, Step 19/327 in Ep 12, 0.21s  train_loss:6.3631\n",
      "2020-06-07_12:47:51, Step 39/327 in Ep 12, 0.21s  train_loss:4.4552\n",
      "2020-06-07_12:47:55, Step 59/327 in Ep 12, 0.21s  train_loss:6.3778\n",
      "2020-06-07_12:48:00, Step 79/327 in Ep 12, 0.21s  train_loss:4.6091\n",
      "2020-06-07_12:48:04, Step 99/327 in Ep 12, 0.21s  train_loss:5.0086\n",
      "2020-06-07_12:48:08, Step 119/327 in Ep 12, 0.21s  train_loss:5.3401\n",
      "2020-06-07_12:48:12, Step 139/327 in Ep 12, 0.21s  train_loss:7.3660\n",
      "2020-06-07_12:48:16, Step 159/327 in Ep 12, 0.21s  train_loss:5.0861\n",
      "2020-06-07_12:48:20, Step 179/327 in Ep 12, 0.21s  train_loss:5.3392\n",
      "2020-06-07_12:48:24, Step 199/327 in Ep 12, 0.21s  train_loss:4.6813\n",
      "2020-06-07_12:48:29, Step 219/327 in Ep 12, 0.21s  train_loss:5.7234\n",
      "2020-06-07_12:48:33, Step 239/327 in Ep 12, 0.21s  train_loss:5.1639\n",
      "2020-06-07_12:48:37, Step 259/327 in Ep 12, 0.22s  train_loss:5.0841\n",
      "2020-06-07_12:48:41, Step 279/327 in Ep 12, 0.21s  train_loss:4.8168\n",
      "2020-06-07_12:48:45, Step 299/327 in Ep 12, 0.21s  train_loss:5.0195\n",
      "2020-06-07_12:48:50, Step 319/327 in Ep 12, 0.21s  train_loss:5.1341\n"
     ]
    },
    {
     "name": "stderr",
     "output_type": "stream",
     "text": [
      "\r",
      "  0%|          | 0/297 [00:00<?, ?it/s]"
     ]
    },
    {
     "name": "stdout",
     "output_type": "stream",
     "text": [
      "2020-06-07_12:48:51, Step 326/327 in Ep 12, 0.13s  train_loss:7.5546\n",
      "Epoch 12, LR 0.1, Train_Time 68.54s, Loss: 5.5468\n"
     ]
    },
    {
     "name": "stderr",
     "output_type": "stream",
     "text": [
      "100%|██████████| 297/297 [01:06<00:00,  4.44it/s]\n"
     ]
    },
    {
     "name": "stdout",
     "output_type": "stream",
     "text": [
      "Evaluation on test set, \n",
      " ma: 0.8723,  pos_recall: 0.7645 , neg_recall: 0.9801 \n",
      " Acc: 0.8673, Prec: 0.9181, Rec: 0.9196, F1: 0.9178\n",
      "2020-06-07_12:49:58\n",
      "------------------------------------------------------------\n",
      "2020-06-07_12:50:03, Step 19/327 in Ep 13, 0.21s  train_loss:4.1693\n",
      "2020-06-07_12:50:07, Step 39/327 in Ep 13, 0.21s  train_loss:5.5515\n",
      "2020-06-07_12:50:11, Step 59/327 in Ep 13, 0.21s  train_loss:4.3035\n",
      "2020-06-07_12:50:15, Step 79/327 in Ep 13, 0.21s  train_loss:5.8491\n",
      "2020-06-07_12:50:19, Step 99/327 in Ep 13, 0.21s  train_loss:5.2101\n",
      "2020-06-07_12:50:23, Step 119/327 in Ep 13, 0.21s  train_loss:5.9478\n",
      "2020-06-07_12:50:28, Step 139/327 in Ep 13, 0.21s  train_loss:4.8779\n",
      "2020-06-07_12:50:32, Step 159/327 in Ep 13, 0.21s  train_loss:5.0620\n",
      "2020-06-07_12:50:36, Step 179/327 in Ep 13, 0.21s  train_loss:5.0133\n",
      "2020-06-07_12:50:40, Step 199/327 in Ep 13, 0.21s  train_loss:5.4755\n",
      "2020-06-07_12:50:44, Step 219/327 in Ep 13, 0.21s  train_loss:5.0698\n",
      "2020-06-07_12:50:49, Step 239/327 in Ep 13, 0.22s  train_loss:5.7803\n",
      "2020-06-07_12:50:53, Step 259/327 in Ep 13, 0.21s  train_loss:6.4289\n",
      "2020-06-07_12:50:57, Step 279/327 in Ep 13, 0.21s  train_loss:4.6113\n",
      "2020-06-07_12:51:01, Step 299/327 in Ep 13, 0.21s  train_loss:5.8778\n",
      "2020-06-07_12:51:05, Step 319/327 in Ep 13, 0.21s  train_loss:4.0809\n"
     ]
    },
    {
     "name": "stderr",
     "output_type": "stream",
     "text": [
      "\r",
      "  0%|          | 0/297 [00:00<?, ?it/s]"
     ]
    },
    {
     "name": "stdout",
     "output_type": "stream",
     "text": [
      "2020-06-07_12:51:07, Step 326/327 in Ep 13, 0.13s  train_loss:7.7706\n",
      "Epoch 13, LR 0.1, Train_Time 68.74s, Loss: 5.2627\n"
     ]
    },
    {
     "name": "stderr",
     "output_type": "stream",
     "text": [
      "100%|██████████| 297/297 [01:06<00:00,  4.44it/s]\n"
     ]
    },
    {
     "name": "stdout",
     "output_type": "stream",
     "text": [
      "Evaluation on test set, \n",
      " ma: 0.8984,  pos_recall: 0.8125 , neg_recall: 0.9842 \n",
      " Acc: 0.8809, Prec: 0.9308, Rec: 0.9233, F1: 0.9260\n",
      "2020-06-07_12:52:14\n",
      "------------------------------------------------------------\n",
      "2020-06-07_12:52:21, Step 19/327 in Ep 14, 0.21s  train_loss:4.4310\n",
      "2020-06-07_12:52:25, Step 39/327 in Ep 14, 0.21s  train_loss:4.9042\n",
      "2020-06-07_12:52:29, Step 59/327 in Ep 14, 0.21s  train_loss:5.7639\n",
      "2020-06-07_12:52:34, Step 79/327 in Ep 14, 0.21s  train_loss:4.4429\n",
      "2020-06-07_12:52:38, Step 99/327 in Ep 14, 0.21s  train_loss:4.5459\n",
      "2020-06-07_12:52:42, Step 119/327 in Ep 14, 0.21s  train_loss:3.7650\n",
      "2020-06-07_12:52:46, Step 139/327 in Ep 14, 0.21s  train_loss:4.5736\n",
      "2020-06-07_12:52:50, Step 159/327 in Ep 14, 0.21s  train_loss:4.7851\n",
      "2020-06-07_12:52:54, Step 179/327 in Ep 14, 0.21s  train_loss:5.0708\n",
      "2020-06-07_12:52:58, Step 199/327 in Ep 14, 0.21s  train_loss:5.8674\n",
      "2020-06-07_12:53:03, Step 219/327 in Ep 14, 0.21s  train_loss:4.3068\n",
      "2020-06-07_12:53:07, Step 239/327 in Ep 14, 0.21s  train_loss:4.9693\n",
      "2020-06-07_12:53:11, Step 259/327 in Ep 14, 0.21s  train_loss:4.3204\n",
      "2020-06-07_12:53:15, Step 279/327 in Ep 14, 0.21s  train_loss:5.4050\n",
      "2020-06-07_12:53:20, Step 299/327 in Ep 14, 0.21s  train_loss:5.0211\n",
      "2020-06-07_12:53:24, Step 319/327 in Ep 14, 0.21s  train_loss:5.7534\n"
     ]
    },
    {
     "name": "stderr",
     "output_type": "stream",
     "text": [
      "\r",
      "  0%|          | 0/297 [00:00<?, ?it/s]"
     ]
    },
    {
     "name": "stdout",
     "output_type": "stream",
     "text": [
      "2020-06-07_12:53:25, Step 326/327 in Ep 14, 0.13s  train_loss:7.7052\n",
      "Epoch 14, LR 0.1, Train_Time 68.75s, Loss: 4.9178\n"
     ]
    },
    {
     "name": "stderr",
     "output_type": "stream",
     "text": [
      "100%|██████████| 297/297 [01:07<00:00,  4.41it/s]\n"
     ]
    },
    {
     "name": "stdout",
     "output_type": "stream",
     "text": [
      "Evaluation on test set, \n",
      " ma: 0.8838,  pos_recall: 0.7858 , neg_recall: 0.9817 \n",
      " Acc: 0.8797, Prec: 0.9269, Rec: 0.9256, F1: 0.9253\n",
      "2020-06-07_12:54:33\n",
      "------------------------------------------------------------\n",
      "2020-06-07_12:54:37, Step 19/327 in Ep 15, 0.21s  train_loss:4.2086\n",
      "2020-06-07_12:54:41, Step 39/327 in Ep 15, 0.21s  train_loss:5.0348\n",
      "2020-06-07_12:54:46, Step 59/327 in Ep 15, 0.21s  train_loss:3.6468\n",
      "2020-06-07_12:54:50, Step 79/327 in Ep 15, 0.21s  train_loss:4.0141\n",
      "2020-06-07_12:54:54, Step 99/327 in Ep 15, 0.21s  train_loss:5.0337\n",
      "2020-06-07_12:54:58, Step 119/327 in Ep 15, 0.21s  train_loss:4.3803\n",
      "2020-06-07_12:55:02, Step 139/327 in Ep 15, 0.21s  train_loss:4.8961\n",
      "2020-06-07_12:55:06, Step 159/327 in Ep 15, 0.21s  train_loss:5.9248\n",
      "2020-06-07_12:55:10, Step 179/327 in Ep 15, 0.21s  train_loss:4.3287\n",
      "2020-06-07_12:55:15, Step 199/327 in Ep 15, 0.21s  train_loss:5.1228\n",
      "2020-06-07_12:55:19, Step 219/327 in Ep 15, 0.21s  train_loss:4.3666\n",
      "2020-06-07_12:55:23, Step 239/327 in Ep 15, 0.21s  train_loss:4.4459\n",
      "2020-06-07_12:55:27, Step 259/327 in Ep 15, 0.21s  train_loss:4.2952\n",
      "2020-06-07_12:55:31, Step 279/327 in Ep 15, 0.21s  train_loss:3.5666\n",
      "2020-06-07_12:55:36, Step 299/327 in Ep 15, 0.21s  train_loss:4.3331\n",
      "2020-06-07_12:55:40, Step 319/327 in Ep 15, 0.21s  train_loss:6.1634\n"
     ]
    },
    {
     "name": "stderr",
     "output_type": "stream",
     "text": [
      "\r",
      "  0%|          | 0/297 [00:00<?, ?it/s]"
     ]
    },
    {
     "name": "stdout",
     "output_type": "stream",
     "text": [
      "2020-06-07_12:55:41, Step 326/327 in Ep 15, 0.13s  train_loss:5.4573\n",
      "Epoch 15, LR 0.1, Train_Time 68.73s, Loss: 4.6606\n"
     ]
    },
    {
     "name": "stderr",
     "output_type": "stream",
     "text": [
      "100%|██████████| 297/297 [01:06<00:00,  4.45it/s]\n"
     ]
    },
    {
     "name": "stdout",
     "output_type": "stream",
     "text": [
      "Evaluation on test set, \n",
      " ma: 0.8943,  pos_recall: 0.8071 , neg_recall: 0.9814 \n",
      " Acc: 0.8791, Prec: 0.9225, Rec: 0.9289, F1: 0.9248\n",
      "2020-06-07_12:56:48\n",
      "------------------------------------------------------------\n",
      "2020-06-07_12:56:53, Step 19/327 in Ep 16, 0.21s  train_loss:4.2358\n",
      "2020-06-07_12:56:57, Step 39/327 in Ep 16, 0.21s  train_loss:4.1548\n",
      "2020-06-07_12:57:01, Step 59/327 in Ep 16, 0.21s  train_loss:4.3043\n",
      "2020-06-07_12:57:05, Step 79/327 in Ep 16, 0.21s  train_loss:4.1509\n",
      "2020-06-07_12:57:09, Step 99/327 in Ep 16, 0.21s  train_loss:4.7930\n",
      "2020-06-07_12:57:13, Step 119/327 in Ep 16, 0.21s  train_loss:3.8168\n",
      "2020-06-07_12:57:18, Step 139/327 in Ep 16, 0.21s  train_loss:3.6263\n",
      "2020-06-07_12:57:22, Step 159/327 in Ep 16, 0.21s  train_loss:4.5992\n",
      "2020-06-07_12:57:26, Step 179/327 in Ep 16, 0.21s  train_loss:3.8613\n",
      "2020-06-07_12:57:30, Step 199/327 in Ep 16, 0.21s  train_loss:4.0877\n",
      "2020-06-07_12:57:34, Step 219/327 in Ep 16, 0.21s  train_loss:3.2138\n",
      "2020-06-07_12:57:38, Step 239/327 in Ep 16, 0.21s  train_loss:3.8202\n",
      "2020-06-07_12:57:43, Step 259/327 in Ep 16, 0.21s  train_loss:4.5295\n",
      "2020-06-07_12:57:47, Step 279/327 in Ep 16, 0.22s  train_loss:4.5022\n",
      "2020-06-07_12:57:51, Step 299/327 in Ep 16, 0.21s  train_loss:4.7172\n",
      "2020-06-07_12:57:55, Step 319/327 in Ep 16, 0.21s  train_loss:3.7606\n"
     ]
    },
    {
     "name": "stderr",
     "output_type": "stream",
     "text": [
      "\r",
      "  0%|          | 0/297 [00:00<?, ?it/s]"
     ]
    },
    {
     "name": "stdout",
     "output_type": "stream",
     "text": [
      "2020-06-07_12:57:57, Step 326/327 in Ep 16, 0.13s  train_loss:3.9262\n",
      "Epoch 16, LR 0.1, Train_Time 68.63s, Loss: 4.4288\n"
     ]
    },
    {
     "name": "stderr",
     "output_type": "stream",
     "text": [
      "100%|██████████| 297/297 [01:06<00:00,  4.43it/s]\n"
     ]
    },
    {
     "name": "stdout",
     "output_type": "stream",
     "text": [
      "Evaluation on test set, \n",
      " ma: 0.8997,  pos_recall: 0.8157 , neg_recall: 0.9836 \n",
      " Acc: 0.8890, Prec: 0.9322, Rec: 0.9311, F1: 0.9308\n",
      "2020-06-07_12:59:04\n",
      "------------------------------------------------------------\n",
      "2020-06-07_12:59:10, Step 19/327 in Ep 17, 0.21s  train_loss:4.1152\n",
      "2020-06-07_12:59:14, Step 39/327 in Ep 17, 0.21s  train_loss:4.3523\n",
      "2020-06-07_12:59:19, Step 59/327 in Ep 17, 0.21s  train_loss:3.5751\n",
      "2020-06-07_12:59:23, Step 79/327 in Ep 17, 0.21s  train_loss:5.0601\n",
      "2020-06-07_12:59:27, Step 99/327 in Ep 17, 0.21s  train_loss:3.1463\n",
      "2020-06-07_12:59:31, Step 119/327 in Ep 17, 0.21s  train_loss:3.5399\n",
      "2020-06-07_12:59:35, Step 139/327 in Ep 17, 0.21s  train_loss:3.2108\n",
      "2020-06-07_12:59:39, Step 159/327 in Ep 17, 0.21s  train_loss:3.5102\n",
      "2020-06-07_12:59:43, Step 179/327 in Ep 17, 0.21s  train_loss:5.3786\n",
      "2020-06-07_12:59:48, Step 199/327 in Ep 17, 0.21s  train_loss:4.5215\n",
      "2020-06-07_12:59:52, Step 219/327 in Ep 17, 0.21s  train_loss:3.5011\n",
      "2020-06-07_12:59:56, Step 239/327 in Ep 17, 0.21s  train_loss:4.5112\n",
      "2020-06-07_13:00:00, Step 259/327 in Ep 17, 0.21s  train_loss:4.2001\n",
      "2020-06-07_13:00:04, Step 279/327 in Ep 17, 0.21s  train_loss:3.1624\n",
      "2020-06-07_13:00:09, Step 299/327 in Ep 17, 0.21s  train_loss:3.7972\n",
      "2020-06-07_13:00:13, Step 319/327 in Ep 17, 0.21s  train_loss:4.8140\n"
     ]
    },
    {
     "name": "stderr",
     "output_type": "stream",
     "text": [
      "\r",
      "  0%|          | 0/297 [00:00<?, ?it/s]"
     ]
    },
    {
     "name": "stdout",
     "output_type": "stream",
     "text": [
      "2020-06-07_13:00:14, Step 326/327 in Ep 17, 0.13s  train_loss:4.2081\n",
      "Epoch 17, LR 0.1, Train_Time 68.58s, Loss: 4.1826\n"
     ]
    },
    {
     "name": "stderr",
     "output_type": "stream",
     "text": [
      "100%|██████████| 297/297 [01:06<00:00,  4.44it/s]\n"
     ]
    },
    {
     "name": "stdout",
     "output_type": "stream",
     "text": [
      "Evaluation on test set, \n",
      " ma: 0.9006,  pos_recall: 0.8185 , neg_recall: 0.9827 \n",
      " Acc: 0.8817, Prec: 0.9238, Rec: 0.9294, F1: 0.9257\n",
      "2020-06-07_13:01:21\n",
      "------------------------------------------------------------\n",
      "2020-06-07_13:01:28, Step 19/327 in Ep 18, 0.21s  train_loss:3.6668\n",
      "2020-06-07_13:01:32, Step 39/327 in Ep 18, 0.21s  train_loss:3.4328\n",
      "2020-06-07_13:01:36, Step 59/327 in Ep 18, 0.21s  train_loss:4.3645\n",
      "2020-06-07_13:01:40, Step 79/327 in Ep 18, 0.21s  train_loss:4.3923\n",
      "2020-06-07_13:01:44, Step 99/327 in Ep 18, 0.21s  train_loss:3.6021\n",
      "2020-06-07_13:01:48, Step 119/327 in Ep 18, 0.21s  train_loss:4.2606\n",
      "2020-06-07_13:01:52, Step 139/327 in Ep 18, 0.21s  train_loss:4.0080\n",
      "2020-06-07_13:01:57, Step 159/327 in Ep 18, 0.21s  train_loss:3.1447\n",
      "2020-06-07_13:02:01, Step 179/327 in Ep 18, 0.21s  train_loss:3.7144\n",
      "2020-06-07_13:02:05, Step 199/327 in Ep 18, 0.21s  train_loss:3.9873\n",
      "2020-06-07_13:02:09, Step 219/327 in Ep 18, 0.21s  train_loss:4.0916\n",
      "2020-06-07_13:02:13, Step 239/327 in Ep 18, 0.21s  train_loss:4.7218\n",
      "2020-06-07_13:02:17, Step 259/327 in Ep 18, 0.21s  train_loss:5.0395\n",
      "2020-06-07_13:02:22, Step 279/327 in Ep 18, 0.21s  train_loss:3.6211\n",
      "2020-06-07_13:02:26, Step 299/327 in Ep 18, 0.21s  train_loss:4.4596\n",
      "2020-06-07_13:02:30, Step 319/327 in Ep 18, 0.21s  train_loss:4.3193\n"
     ]
    },
    {
     "name": "stderr",
     "output_type": "stream",
     "text": [
      "\r",
      "  0%|          | 0/297 [00:00<?, ?it/s]"
     ]
    },
    {
     "name": "stdout",
     "output_type": "stream",
     "text": [
      "2020-06-07_13:02:31, Step 326/327 in Ep 18, 0.13s  train_loss:5.3199\n",
      "Epoch 18, LR 0.1, Train_Time 68.58s, Loss: 4.0014\n"
     ]
    },
    {
     "name": "stderr",
     "output_type": "stream",
     "text": [
      "100%|██████████| 297/297 [01:07<00:00,  4.42it/s]\n"
     ]
    },
    {
     "name": "stdout",
     "output_type": "stream",
     "text": [
      "Evaluation on test set, \n",
      " ma: 0.9012,  pos_recall: 0.8186 , neg_recall: 0.9838 \n",
      " Acc: 0.8904, Prec: 0.9339, Rec: 0.9306, F1: 0.9314\n",
      "2020-06-07_13:03:39\n",
      "------------------------------------------------------------\n",
      "2020-06-07_13:03:45, Step 19/327 in Ep 19, 0.21s  train_loss:3.1239\n",
      "2020-06-07_13:03:50, Step 39/327 in Ep 19, 0.21s  train_loss:4.7527\n",
      "2020-06-07_13:03:54, Step 59/327 in Ep 19, 0.21s  train_loss:3.8237\n",
      "2020-06-07_13:03:58, Step 79/327 in Ep 19, 0.21s  train_loss:4.1463\n",
      "2020-06-07_13:04:02, Step 99/327 in Ep 19, 0.21s  train_loss:2.9977\n",
      "2020-06-07_13:04:06, Step 119/327 in Ep 19, 0.21s  train_loss:3.1174\n",
      "2020-06-07_13:04:10, Step 139/327 in Ep 19, 0.21s  train_loss:3.8307\n",
      "2020-06-07_13:04:14, Step 159/327 in Ep 19, 0.21s  train_loss:4.6707\n",
      "2020-06-07_13:04:19, Step 179/327 in Ep 19, 0.21s  train_loss:3.6113\n",
      "2020-06-07_13:04:23, Step 199/327 in Ep 19, 0.21s  train_loss:5.5445\n",
      "2020-06-07_13:04:27, Step 219/327 in Ep 19, 0.21s  train_loss:3.3440\n",
      "2020-06-07_13:04:31, Step 239/327 in Ep 19, 0.21s  train_loss:4.3761\n",
      "2020-06-07_13:04:35, Step 259/327 in Ep 19, 0.21s  train_loss:2.7056\n",
      "2020-06-07_13:04:39, Step 279/327 in Ep 19, 0.21s  train_loss:4.0797\n",
      "2020-06-07_13:04:44, Step 299/327 in Ep 19, 0.21s  train_loss:3.9554\n",
      "2020-06-07_13:04:48, Step 319/327 in Ep 19, 0.21s  train_loss:3.3545\n"
     ]
    },
    {
     "name": "stderr",
     "output_type": "stream",
     "text": [
      "\r",
      "  0%|          | 0/297 [00:00<?, ?it/s]"
     ]
    },
    {
     "name": "stdout",
     "output_type": "stream",
     "text": [
      "2020-06-07_13:04:49, Step 326/327 in Ep 19, 0.13s  train_loss:4.1544\n",
      "Epoch 19, LR 0.1, Train_Time 68.57s, Loss: 3.8768\n"
     ]
    },
    {
     "name": "stderr",
     "output_type": "stream",
     "text": [
      "100%|██████████| 297/297 [01:07<00:00,  4.43it/s]"
     ]
    },
    {
     "name": "stdout",
     "output_type": "stream",
     "text": [
      "Evaluation on test set, \n",
      " ma: 0.9009,  pos_recall: 0.8182 , neg_recall: 0.9835 \n",
      " Acc: 0.8904, Prec: 0.9325, Rec: 0.9315, F1: 0.9312\n",
      "2020-06-07_13:05:57\n",
      "------------------------------------------------------------\n"
     ]
    },
    {
     "name": "stderr",
     "output_type": "stream",
     "text": [
      "\n"
     ]
    },
    {
     "name": "stdout",
     "output_type": "stream",
     "text": [
      "2020-06-07_13:06:01, Step 19/327 in Ep 20, 0.21s  train_loss:3.7066\n",
      "2020-06-07_13:06:05, Step 39/327 in Ep 20, 0.21s  train_loss:2.9411\n",
      "2020-06-07_13:06:09, Step 59/327 in Ep 20, 0.21s  train_loss:3.6807\n",
      "2020-06-07_13:06:14, Step 79/327 in Ep 20, 0.21s  train_loss:3.8778\n",
      "2020-06-07_13:06:18, Step 99/327 in Ep 20, 0.21s  train_loss:3.8160\n",
      "2020-06-07_13:06:22, Step 119/327 in Ep 20, 0.21s  train_loss:3.9187\n",
      "2020-06-07_13:06:26, Step 139/327 in Ep 20, 0.21s  train_loss:3.5046\n",
      "2020-06-07_13:06:30, Step 159/327 in Ep 20, 0.21s  train_loss:3.8187\n",
      "2020-06-07_13:06:34, Step 179/327 in Ep 20, 0.21s  train_loss:4.3940\n",
      "2020-06-07_13:06:38, Step 199/327 in Ep 20, 0.21s  train_loss:3.5719\n",
      "2020-06-07_13:06:43, Step 219/327 in Ep 20, 0.21s  train_loss:3.9517\n",
      "2020-06-07_13:06:47, Step 239/327 in Ep 20, 0.21s  train_loss:4.3198\n",
      "2020-06-07_13:06:51, Step 259/327 in Ep 20, 0.21s  train_loss:3.6036\n",
      "2020-06-07_13:06:55, Step 279/327 in Ep 20, 0.21s  train_loss:4.2657\n",
      "2020-06-07_13:06:59, Step 299/327 in Ep 20, 0.21s  train_loss:3.8741\n",
      "2020-06-07_13:07:04, Step 319/327 in Ep 20, 0.20s  train_loss:3.9155\n"
     ]
    },
    {
     "name": "stderr",
     "output_type": "stream",
     "text": [
      "\r",
      "  0%|          | 0/297 [00:00<?, ?it/s]"
     ]
    },
    {
     "name": "stdout",
     "output_type": "stream",
     "text": [
      "2020-06-07_13:07:05, Step 326/327 in Ep 20, 0.13s  train_loss:4.7801\n",
      "Epoch 20, LR 0.1, Train_Time 68.60s, Loss: 3.6684\n"
     ]
    },
    {
     "name": "stderr",
     "output_type": "stream",
     "text": [
      "100%|██████████| 297/297 [01:07<00:00,  4.42it/s]\n"
     ]
    },
    {
     "name": "stdout",
     "output_type": "stream",
     "text": [
      "Evaluation on test set, \n",
      " ma: 0.9016,  pos_recall: 0.8179 , neg_recall: 0.9853 \n",
      " Acc: 0.8955, Prec: 0.9376, Rec: 0.9328, F1: 0.9343\n",
      "2020-06-07_13:08:12\n",
      "------------------------------------------------------------\n",
      "2020-06-07_13:08:19, Step 19/327 in Ep 21, 0.21s  train_loss:3.1089\n",
      "2020-06-07_13:08:23, Step 39/327 in Ep 21, 0.21s  train_loss:3.0291\n",
      "2020-06-07_13:08:27, Step 59/327 in Ep 21, 0.21s  train_loss:3.3485\n",
      "2020-06-07_13:08:31, Step 79/327 in Ep 21, 0.21s  train_loss:3.7294\n",
      "2020-06-07_13:08:36, Step 99/327 in Ep 21, 0.21s  train_loss:3.3352\n",
      "2020-06-07_13:08:40, Step 119/327 in Ep 21, 0.21s  train_loss:3.2475\n",
      "2020-06-07_13:08:44, Step 139/327 in Ep 21, 0.21s  train_loss:3.5625\n",
      "2020-06-07_13:08:48, Step 159/327 in Ep 21, 0.21s  train_loss:4.4255\n",
      "2020-06-07_13:08:52, Step 179/327 in Ep 21, 0.21s  train_loss:3.7601\n",
      "2020-06-07_13:08:56, Step 199/327 in Ep 21, 0.21s  train_loss:4.3883\n",
      "2020-06-07_13:09:01, Step 219/327 in Ep 21, 0.21s  train_loss:3.3806\n",
      "2020-06-07_13:09:05, Step 239/327 in Ep 21, 0.21s  train_loss:3.0605\n",
      "2020-06-07_13:09:09, Step 259/327 in Ep 21, 0.21s  train_loss:3.4732\n",
      "2020-06-07_13:09:13, Step 279/327 in Ep 21, 0.21s  train_loss:3.8628\n",
      "2020-06-07_13:09:17, Step 299/327 in Ep 21, 0.22s  train_loss:3.4350\n",
      "2020-06-07_13:09:22, Step 319/327 in Ep 21, 0.21s  train_loss:3.1682\n"
     ]
    },
    {
     "name": "stderr",
     "output_type": "stream",
     "text": [
      "\r",
      "  0%|          | 0/297 [00:00<?, ?it/s]"
     ]
    },
    {
     "name": "stdout",
     "output_type": "stream",
     "text": [
      "2020-06-07_13:09:23, Step 326/327 in Ep 21, 0.13s  train_loss:6.7816\n",
      "Epoch 21, LR 0.1, Train_Time 68.62s, Loss: 3.5633\n"
     ]
    },
    {
     "name": "stderr",
     "output_type": "stream",
     "text": [
      "100%|██████████| 297/297 [01:07<00:00,  4.42it/s]\n"
     ]
    },
    {
     "name": "stdout",
     "output_type": "stream",
     "text": [
      "Evaluation on test set, \n",
      " ma: 0.9018,  pos_recall: 0.8203 , neg_recall: 0.9833 \n",
      " Acc: 0.8779, Prec: 0.9255, Rec: 0.9231, F1: 0.9234\n",
      "2020-06-07_13:10:30\n",
      "------------------------------------------------------------\n",
      "2020-06-07_13:10:37, Step 19/327 in Ep 22, 0.21s  train_loss:2.5139\n",
      "2020-06-07_13:10:41, Step 39/327 in Ep 22, 0.21s  train_loss:3.7645\n",
      "2020-06-07_13:10:45, Step 59/327 in Ep 22, 0.21s  train_loss:2.8627\n",
      "2020-06-07_13:10:49, Step 79/327 in Ep 22, 0.21s  train_loss:3.1532\n",
      "2020-06-07_13:10:54, Step 99/327 in Ep 22, 0.21s  train_loss:3.0084\n",
      "2020-06-07_13:10:58, Step 119/327 in Ep 22, 0.21s  train_loss:4.4571\n",
      "2020-06-07_13:11:02, Step 139/327 in Ep 22, 0.21s  train_loss:3.5220\n",
      "2020-06-07_13:11:06, Step 159/327 in Ep 22, 0.21s  train_loss:3.1934\n",
      "2020-06-07_13:11:10, Step 179/327 in Ep 22, 0.21s  train_loss:3.8756\n",
      "2020-06-07_13:11:14, Step 199/327 in Ep 22, 0.21s  train_loss:3.1452\n",
      "2020-06-07_13:11:18, Step 219/327 in Ep 22, 0.21s  train_loss:3.7436\n",
      "2020-06-07_13:11:23, Step 239/327 in Ep 22, 0.21s  train_loss:3.0984\n",
      "2020-06-07_13:11:27, Step 259/327 in Ep 22, 0.21s  train_loss:3.3463\n",
      "2020-06-07_13:11:31, Step 279/327 in Ep 22, 0.22s  train_loss:3.2671\n",
      "2020-06-07_13:11:35, Step 299/327 in Ep 22, 0.21s  train_loss:2.9592\n",
      "2020-06-07_13:11:40, Step 319/327 in Ep 22, 0.21s  train_loss:3.2717\n"
     ]
    },
    {
     "name": "stderr",
     "output_type": "stream",
     "text": [
      "\r",
      "  0%|          | 0/297 [00:00<?, ?it/s]"
     ]
    },
    {
     "name": "stdout",
     "output_type": "stream",
     "text": [
      "2020-06-07_13:11:41, Step 326/327 in Ep 22, 0.13s  train_loss:4.1673\n",
      "Epoch 22, LR 0.1, Train_Time 68.62s, Loss: 3.4411\n"
     ]
    },
    {
     "name": "stderr",
     "output_type": "stream",
     "text": [
      "100%|██████████| 297/297 [01:06<00:00,  4.44it/s]"
     ]
    },
    {
     "name": "stdout",
     "output_type": "stream",
     "text": [
      "Evaluation on test set, \n",
      " ma: 0.8970,  pos_recall: 0.8101 , neg_recall: 0.9839 \n",
      " Acc: 0.8876, Prec: 0.9306, Rec: 0.9302, F1: 0.9295\n",
      "2020-06-07_13:12:48\n",
      "------------------------------------------------------------\n"
     ]
    },
    {
     "name": "stderr",
     "output_type": "stream",
     "text": [
      "\n"
     ]
    },
    {
     "name": "stdout",
     "output_type": "stream",
     "text": [
      "2020-06-07_13:12:53, Step 19/327 in Ep 23, 0.21s  train_loss:2.5887\n",
      "2020-06-07_13:12:57, Step 39/327 in Ep 23, 0.21s  train_loss:3.2066\n",
      "2020-06-07_13:13:01, Step 59/327 in Ep 23, 0.21s  train_loss:2.7755\n",
      "2020-06-07_13:13:05, Step 79/327 in Ep 23, 0.21s  train_loss:2.6617\n",
      "2020-06-07_13:13:09, Step 99/327 in Ep 23, 0.21s  train_loss:3.6169\n",
      "2020-06-07_13:13:13, Step 119/327 in Ep 23, 0.21s  train_loss:3.8785\n",
      "2020-06-07_13:13:18, Step 139/327 in Ep 23, 0.21s  train_loss:2.7227\n",
      "2020-06-07_13:13:22, Step 159/327 in Ep 23, 0.21s  train_loss:2.5190\n",
      "2020-06-07_13:13:26, Step 179/327 in Ep 23, 0.21s  train_loss:3.4768\n",
      "2020-06-07_13:13:30, Step 199/327 in Ep 23, 0.21s  train_loss:3.4332\n",
      "2020-06-07_13:13:34, Step 219/327 in Ep 23, 0.21s  train_loss:3.6906\n",
      "2020-06-07_13:13:38, Step 239/327 in Ep 23, 0.21s  train_loss:3.2478\n",
      "2020-06-07_13:13:43, Step 259/327 in Ep 23, 0.21s  train_loss:2.8690\n",
      "2020-06-07_13:13:47, Step 279/327 in Ep 23, 0.21s  train_loss:3.3804\n",
      "2020-06-07_13:13:51, Step 299/327 in Ep 23, 0.21s  train_loss:3.4611\n",
      "2020-06-07_13:13:55, Step 319/327 in Ep 23, 0.21s  train_loss:3.5950\n"
     ]
    },
    {
     "name": "stderr",
     "output_type": "stream",
     "text": [
      "\r",
      "  0%|          | 0/297 [00:00<?, ?it/s]"
     ]
    },
    {
     "name": "stdout",
     "output_type": "stream",
     "text": [
      "2020-06-07_13:13:57, Step 326/327 in Ep 23, 0.13s  train_loss:3.6258\n",
      "Epoch 23, LR 0.1, Train_Time 68.67s, Loss: 3.3672\n"
     ]
    },
    {
     "name": "stderr",
     "output_type": "stream",
     "text": [
      "100%|██████████| 297/297 [01:07<00:00,  4.42it/s]"
     ]
    },
    {
     "name": "stdout",
     "output_type": "stream",
     "text": [
      "Evaluation on test set, \n",
      " ma: 0.8977,  pos_recall: 0.8102 , neg_recall: 0.9851 \n",
      " Acc: 0.8890, Prec: 0.9341, Rec: 0.9284, F1: 0.9304\n",
      "2020-06-07_13:15:04\n",
      "------------------------------------------------------------\n"
     ]
    },
    {
     "name": "stderr",
     "output_type": "stream",
     "text": [
      "\n"
     ]
    },
    {
     "name": "stdout",
     "output_type": "stream",
     "text": [
      "2020-06-07_13:15:09, Step 19/327 in Ep 24, 0.21s  train_loss:2.7259\n",
      "2020-06-07_13:15:13, Step 39/327 in Ep 24, 0.21s  train_loss:3.1985\n",
      "2020-06-07_13:15:17, Step 59/327 in Ep 24, 0.21s  train_loss:3.1126\n",
      "2020-06-07_13:15:21, Step 79/327 in Ep 24, 0.21s  train_loss:3.3302\n",
      "2020-06-07_13:15:25, Step 99/327 in Ep 24, 0.21s  train_loss:2.8724\n",
      "2020-06-07_13:15:29, Step 119/327 in Ep 24, 0.21s  train_loss:2.8871\n",
      "2020-06-07_13:15:33, Step 139/327 in Ep 24, 0.21s  train_loss:2.8795\n",
      "2020-06-07_13:15:38, Step 159/327 in Ep 24, 0.21s  train_loss:3.2207\n",
      "2020-06-07_13:15:42, Step 179/327 in Ep 24, 0.21s  train_loss:3.5635\n",
      "2020-06-07_13:15:46, Step 199/327 in Ep 24, 0.21s  train_loss:4.1267\n",
      "2020-06-07_13:15:50, Step 219/327 in Ep 24, 0.21s  train_loss:3.3797\n",
      "2020-06-07_13:15:54, Step 239/327 in Ep 24, 0.21s  train_loss:2.7849\n",
      "2020-06-07_13:15:58, Step 259/327 in Ep 24, 0.21s  train_loss:3.0235\n",
      "2020-06-07_13:16:03, Step 279/327 in Ep 24, 0.21s  train_loss:3.1573\n",
      "2020-06-07_13:16:07, Step 299/327 in Ep 24, 0.21s  train_loss:2.8299\n",
      "2020-06-07_13:16:11, Step 319/327 in Ep 24, 0.21s  train_loss:3.0220\n"
     ]
    },
    {
     "name": "stderr",
     "output_type": "stream",
     "text": [
      "\r",
      "  0%|          | 0/297 [00:00<?, ?it/s]"
     ]
    },
    {
     "name": "stdout",
     "output_type": "stream",
     "text": [
      "2020-06-07_13:16:12, Step 326/327 in Ep 24, 0.13s  train_loss:5.4982\n",
      "Epoch 24, LR 0.1, Train_Time 68.61s, Loss: 3.2222\n"
     ]
    },
    {
     "name": "stderr",
     "output_type": "stream",
     "text": [
      "100%|██████████| 297/297 [01:06<00:00,  4.43it/s]\n"
     ]
    },
    {
     "name": "stdout",
     "output_type": "stream",
     "text": [
      "Evaluation on test set, \n",
      " ma: 0.9087,  pos_recall: 0.8317 , neg_recall: 0.9858 \n",
      " Acc: 0.8938, Prec: 0.9385, Rec: 0.9295, F1: 0.9331\n",
      "2020-06-07_13:17:20\n",
      "------------------------------------------------------------\n",
      "2020-06-07_13:17:26, Step 19/327 in Ep 25, 0.21s  train_loss:3.6288\n",
      "2020-06-07_13:17:30, Step 39/327 in Ep 25, 0.21s  train_loss:3.2977\n",
      "2020-06-07_13:17:34, Step 59/327 in Ep 25, 0.21s  train_loss:2.8550\n",
      "2020-06-07_13:17:38, Step 79/327 in Ep 25, 0.21s  train_loss:2.9056\n",
      "2020-06-07_13:17:42, Step 99/327 in Ep 25, 0.21s  train_loss:3.1346\n",
      "2020-06-07_13:17:47, Step 119/327 in Ep 25, 0.21s  train_loss:2.7933\n",
      "2020-06-07_13:17:51, Step 139/327 in Ep 25, 0.21s  train_loss:3.5695\n",
      "2020-06-07_13:17:55, Step 159/327 in Ep 25, 0.21s  train_loss:3.1028\n",
      "2020-06-07_13:17:59, Step 179/327 in Ep 25, 0.21s  train_loss:4.0547\n",
      "2020-06-07_13:18:03, Step 199/327 in Ep 25, 0.21s  train_loss:3.4049\n",
      "2020-06-07_13:18:07, Step 219/327 in Ep 25, 0.21s  train_loss:3.7895\n",
      "2020-06-07_13:18:12, Step 239/327 in Ep 25, 0.21s  train_loss:2.6161\n",
      "2020-06-07_13:18:16, Step 259/327 in Ep 25, 0.21s  train_loss:3.4884\n",
      "2020-06-07_13:18:20, Step 279/327 in Ep 25, 0.21s  train_loss:3.0904\n",
      "2020-06-07_13:18:24, Step 299/327 in Ep 25, 0.21s  train_loss:2.8684\n",
      "2020-06-07_13:18:28, Step 319/327 in Ep 25, 0.21s  train_loss:3.5089\n"
     ]
    },
    {
     "name": "stderr",
     "output_type": "stream",
     "text": [
      "\r",
      "  0%|          | 0/297 [00:00<?, ?it/s]"
     ]
    },
    {
     "name": "stdout",
     "output_type": "stream",
     "text": [
      "2020-06-07_13:18:30, Step 326/327 in Ep 25, 0.13s  train_loss:3.7861\n",
      "Epoch 25, LR 0.1, Train_Time 68.51s, Loss: 3.1570\n"
     ]
    },
    {
     "name": "stderr",
     "output_type": "stream",
     "text": [
      "100%|██████████| 297/297 [01:07<00:00,  4.39it/s]"
     ]
    },
    {
     "name": "stdout",
     "output_type": "stream",
     "text": [
      "Evaluation on test set, \n",
      " ma: 0.9085,  pos_recall: 0.8309 , neg_recall: 0.9860 \n",
      " Acc: 0.8938, Prec: 0.9379, Rec: 0.9298, F1: 0.9330\n",
      "2020-06-07_13:19:38\n",
      "------------------------------------------------------------\n"
     ]
    },
    {
     "name": "stderr",
     "output_type": "stream",
     "text": [
      "\n"
     ]
    },
    {
     "name": "stdout",
     "output_type": "stream",
     "text": [
      "2020-06-07_13:19:42, Step 19/327 in Ep 26, 0.21s  train_loss:2.1235\n",
      "2020-06-07_13:19:46, Step 39/327 in Ep 26, 0.21s  train_loss:2.2983\n",
      "2020-06-07_13:19:51, Step 59/327 in Ep 26, 0.21s  train_loss:1.9176\n",
      "2020-06-07_13:19:55, Step 79/327 in Ep 26, 0.21s  train_loss:2.1368\n",
      "2020-06-07_13:19:59, Step 99/327 in Ep 26, 0.21s  train_loss:1.6550\n",
      "2020-06-07_13:20:03, Step 119/327 in Ep 26, 0.21s  train_loss:1.9192\n",
      "2020-06-07_13:20:07, Step 139/327 in Ep 26, 0.21s  train_loss:2.0155\n",
      "2020-06-07_13:20:11, Step 159/327 in Ep 26, 0.21s  train_loss:1.4737\n",
      "2020-06-07_13:20:15, Step 179/327 in Ep 26, 0.20s  train_loss:1.4023\n",
      "2020-06-07_13:20:19, Step 199/327 in Ep 26, 0.21s  train_loss:1.7827\n",
      "2020-06-07_13:20:24, Step 219/327 in Ep 26, 0.21s  train_loss:1.4638\n",
      "2020-06-07_13:20:28, Step 239/327 in Ep 26, 0.20s  train_loss:1.2369\n",
      "2020-06-07_13:20:32, Step 259/327 in Ep 26, 0.21s  train_loss:1.3412\n",
      "2020-06-07_13:20:36, Step 279/327 in Ep 26, 0.21s  train_loss:1.6832\n",
      "2020-06-07_13:20:40, Step 299/327 in Ep 26, 0.21s  train_loss:1.3765\n",
      "2020-06-07_13:20:44, Step 319/327 in Ep 26, 0.20s  train_loss:1.4424\n"
     ]
    },
    {
     "name": "stderr",
     "output_type": "stream",
     "text": [
      "\r",
      "  0%|          | 0/297 [00:00<?, ?it/s]"
     ]
    },
    {
     "name": "stdout",
     "output_type": "stream",
     "text": [
      "2020-06-07_13:20:46, Step 326/327 in Ep 26, 0.13s  train_loss:2.4579\n",
      "Epoch 26, LR 0.010000000000000002, Train_Time 68.21s, Loss: 1.8003\n"
     ]
    },
    {
     "name": "stderr",
     "output_type": "stream",
     "text": [
      "100%|██████████| 297/297 [01:07<00:00,  4.42it/s]\n"
     ]
    },
    {
     "name": "stdout",
     "output_type": "stream",
     "text": [
      "Evaluation on test set, \n",
      " ma: 0.9191,  pos_recall: 0.8495 , neg_recall: 0.9887 \n",
      " Acc: 0.9215, Prec: 0.9544, Rec: 0.9469, F1: 0.9501\n",
      "2020-06-07_13:21:53\n",
      "------------------------------------------------------------\n",
      "2020-06-07_13:22:00, Step 19/327 in Ep 27, 0.20s  train_loss:1.1488\n",
      "2020-06-07_13:22:04, Step 39/327 in Ep 27, 0.20s  train_loss:1.3535\n",
      "2020-06-07_13:22:08, Step 59/327 in Ep 27, 0.20s  train_loss:1.3715\n",
      "2020-06-07_13:22:12, Step 79/327 in Ep 27, 0.20s  train_loss:1.2295\n",
      "2020-06-07_13:22:16, Step 99/327 in Ep 27, 0.20s  train_loss:1.4362\n",
      "2020-06-07_13:22:20, Step 119/327 in Ep 27, 0.20s  train_loss:1.3474\n",
      "2020-06-07_13:22:24, Step 139/327 in Ep 27, 0.20s  train_loss:1.1444\n",
      "2020-06-07_13:22:28, Step 159/327 in Ep 27, 0.21s  train_loss:1.1989\n",
      "2020-06-07_13:22:32, Step 179/327 in Ep 27, 0.20s  train_loss:1.4914\n",
      "2020-06-07_13:22:37, Step 199/327 in Ep 27, 0.21s  train_loss:1.0516\n",
      "2020-06-07_13:22:41, Step 219/327 in Ep 27, 0.20s  train_loss:1.1039\n",
      "2020-06-07_13:22:45, Step 239/327 in Ep 27, 0.21s  train_loss:1.1329\n",
      "2020-06-07_13:22:49, Step 259/327 in Ep 27, 0.21s  train_loss:1.4176\n",
      "2020-06-07_13:22:53, Step 279/327 in Ep 27, 0.21s  train_loss:0.9611\n",
      "2020-06-07_13:22:57, Step 299/327 in Ep 27, 0.21s  train_loss:1.3023\n",
      "2020-06-07_13:23:01, Step 319/327 in Ep 27, 0.20s  train_loss:1.4386\n"
     ]
    },
    {
     "name": "stderr",
     "output_type": "stream",
     "text": [
      "\r",
      "  0%|          | 0/297 [00:00<?, ?it/s]"
     ]
    },
    {
     "name": "stdout",
     "output_type": "stream",
     "text": [
      "2020-06-07_13:23:03, Step 326/327 in Ep 27, 0.13s  train_loss:1.7424\n",
      "Epoch 27, LR 0.010000000000000002, Train_Time 67.75s, Loss: 1.2924\n"
     ]
    },
    {
     "name": "stderr",
     "output_type": "stream",
     "text": [
      "100%|██████████| 297/297 [01:07<00:00,  4.43it/s]\n"
     ]
    },
    {
     "name": "stdout",
     "output_type": "stream",
     "text": [
      "Evaluation on test set, \n",
      " ma: 0.9210,  pos_recall: 0.8529 , neg_recall: 0.9890 \n",
      " Acc: 0.9231, Prec: 0.9556, Rec: 0.9476, F1: 0.9510\n",
      "2020-06-07_13:24:10\n",
      "------------------------------------------------------------\n",
      "2020-06-07_13:24:16, Step 19/327 in Ep 28, 0.20s  train_loss:1.0768\n",
      "2020-06-07_13:24:20, Step 39/327 in Ep 28, 0.20s  train_loss:1.1648\n",
      "2020-06-07_13:24:25, Step 59/327 in Ep 28, 0.20s  train_loss:1.0211\n",
      "2020-06-07_13:24:29, Step 79/327 in Ep 28, 0.20s  train_loss:1.2118\n",
      "2020-06-07_13:24:33, Step 99/327 in Ep 28, 0.20s  train_loss:1.1169\n",
      "2020-06-07_13:24:37, Step 119/327 in Ep 28, 0.20s  train_loss:1.2035\n",
      "2020-06-07_13:24:41, Step 139/327 in Ep 28, 0.20s  train_loss:1.1437\n",
      "2020-06-07_13:24:45, Step 159/327 in Ep 28, 0.20s  train_loss:1.1900\n",
      "2020-06-07_13:24:49, Step 179/327 in Ep 28, 0.21s  train_loss:1.4001\n",
      "2020-06-07_13:24:53, Step 199/327 in Ep 28, 0.20s  train_loss:1.2352\n",
      "2020-06-07_13:24:57, Step 219/327 in Ep 28, 0.21s  train_loss:1.0922\n",
      "2020-06-07_13:25:01, Step 239/327 in Ep 28, 0.21s  train_loss:1.0507\n",
      "2020-06-07_13:25:06, Step 259/327 in Ep 28, 0.21s  train_loss:1.0787\n",
      "2020-06-07_13:25:10, Step 279/327 in Ep 28, 0.21s  train_loss:1.2398\n",
      "2020-06-07_13:25:14, Step 299/327 in Ep 28, 0.21s  train_loss:1.2196\n",
      "2020-06-07_13:25:18, Step 319/327 in Ep 28, 0.20s  train_loss:1.0212\n"
     ]
    },
    {
     "name": "stderr",
     "output_type": "stream",
     "text": [
      "\r",
      "  0%|          | 0/297 [00:00<?, ?it/s]"
     ]
    },
    {
     "name": "stdout",
     "output_type": "stream",
     "text": [
      "2020-06-07_13:25:19, Step 326/327 in Ep 28, 0.13s  train_loss:2.0245\n",
      "Epoch 28, LR 0.010000000000000002, Train_Time 67.81s, Loss: 1.1277\n"
     ]
    },
    {
     "name": "stderr",
     "output_type": "stream",
     "text": [
      "100%|██████████| 297/297 [01:06<00:00,  4.44it/s]\n"
     ]
    },
    {
     "name": "stdout",
     "output_type": "stream",
     "text": [
      "Evaluation on test set, \n",
      " ma: 0.9208,  pos_recall: 0.8525 , neg_recall: 0.9891 \n",
      " Acc: 0.9234, Prec: 0.9563, Rec: 0.9475, F1: 0.9513\n",
      "2020-06-07_13:26:27\n",
      "------------------------------------------------------------\n",
      "2020-06-07_13:26:31, Step 19/327 in Ep 29, 0.20s  train_loss:1.0424\n",
      "2020-06-07_13:26:35, Step 39/327 in Ep 29, 0.20s  train_loss:1.1418\n",
      "2020-06-07_13:26:39, Step 59/327 in Ep 29, 0.20s  train_loss:1.0206\n",
      "2020-06-07_13:26:43, Step 79/327 in Ep 29, 0.21s  train_loss:0.8926\n",
      "2020-06-07_13:26:47, Step 99/327 in Ep 29, 0.20s  train_loss:0.9420\n",
      "2020-06-07_13:26:52, Step 119/327 in Ep 29, 0.20s  train_loss:0.9483\n",
      "2020-06-07_13:26:56, Step 139/327 in Ep 29, 0.20s  train_loss:1.3572\n",
      "2020-06-07_13:27:00, Step 159/327 in Ep 29, 0.20s  train_loss:1.1028\n",
      "2020-06-07_13:27:04, Step 179/327 in Ep 29, 0.20s  train_loss:1.1209\n",
      "2020-06-07_13:27:08, Step 199/327 in Ep 29, 0.20s  train_loss:0.9966\n",
      "2020-06-07_13:27:12, Step 219/327 in Ep 29, 0.21s  train_loss:0.9885\n",
      "2020-06-07_13:27:16, Step 239/327 in Ep 29, 0.21s  train_loss:0.9799\n",
      "2020-06-07_13:27:20, Step 259/327 in Ep 29, 0.21s  train_loss:0.9776\n",
      "2020-06-07_13:27:25, Step 279/327 in Ep 29, 0.21s  train_loss:1.0181\n",
      "2020-06-07_13:27:29, Step 299/327 in Ep 29, 0.21s  train_loss:0.8960\n",
      "2020-06-07_13:27:33, Step 319/327 in Ep 29, 0.20s  train_loss:1.2664\n"
     ]
    },
    {
     "name": "stderr",
     "output_type": "stream",
     "text": [
      "\r",
      "  0%|          | 0/297 [00:00<?, ?it/s]"
     ]
    },
    {
     "name": "stdout",
     "output_type": "stream",
     "text": [
      "2020-06-07_13:27:34, Step 326/327 in Ep 29, 0.13s  train_loss:1.6580\n",
      "Epoch 29, LR 0.010000000000000002, Train_Time 67.83s, Loss: 1.0387\n"
     ]
    },
    {
     "name": "stderr",
     "output_type": "stream",
     "text": [
      "100%|██████████| 297/297 [01:07<00:00,  4.42it/s]\n"
     ]
    },
    {
     "name": "stdout",
     "output_type": "stream",
     "text": [
      "Evaluation on test set, \n",
      " ma: 0.9221,  pos_recall: 0.8552 , neg_recall: 0.9891 \n",
      " Acc: 0.9234, Prec: 0.9560, Rec: 0.9478, F1: 0.9513\n",
      "2020-06-07_13:28:42\n",
      "------------------------------------------------------------\n",
      "PETA,  best_metrc : 0.9221381206976946 in epoch29\n"
     ]
    }
   ],
   "source": [
    "main(args)"
   ]
  },
  {
   "cell_type": "code",
   "execution_count": null,
   "metadata": {},
   "outputs": [],
   "source": []
  }
 ],
 "metadata": {
  "kernelspec": {
   "display_name": "Python 3",
   "language": "python",
   "name": "python3"
  },
  "language_info": {
   "codemirror_mode": {
    "name": "ipython",
    "version": 3
   },
   "file_extension": ".py",
   "mimetype": "text/x-python",
   "name": "python",
   "nbconvert_exporter": "python",
   "pygments_lexer": "ipython3",
   "version": "3.6.9"
  }
 },
 "nbformat": 4,
 "nbformat_minor": 2
}
